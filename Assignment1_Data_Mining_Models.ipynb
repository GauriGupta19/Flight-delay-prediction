{
 "cells": [
  {
   "cell_type": "code",
   "execution_count": 1,
   "metadata": {
    "colab": {
     "base_uri": "https://localhost:8080/",
     "height": 124
    },
    "colab_type": "code",
    "executionInfo": {
     "elapsed": 24819,
     "status": "ok",
     "timestamp": 1583150526747,
     "user": {
      "displayName": "Gauri Gupta",
      "photoUrl": "https://lh3.googleusercontent.com/a-/AOh14GjZ1jKXyGWpnYo5kU18ZNfK1f7x0-Rxorw1w-EPZw=s64",
      "userId": "13281876057161016479"
     },
     "user_tz": -330
    },
    "id": "YZ0865gf917S",
    "outputId": "46d75b3b-01f6-44f9-c58d-e958c3d3bbed"
   },
   "outputs": [
    {
     "name": "stdout",
     "output_type": "stream",
     "text": [
      "Go to this URL in a browser: https://accounts.google.com/o/oauth2/auth?client_id=947318989803-6bn6qk8qdgf4n4g3pfee6491hc0brc4i.apps.googleusercontent.com&redirect_uri=urn%3aietf%3awg%3aoauth%3a2.0%3aoob&response_type=code&scope=email%20https%3a%2f%2fwww.googleapis.com%2fauth%2fdocs.test%20https%3a%2f%2fwww.googleapis.com%2fauth%2fdrive%20https%3a%2f%2fwww.googleapis.com%2fauth%2fdrive.photos.readonly%20https%3a%2f%2fwww.googleapis.com%2fauth%2fpeopleapi.readonly\n",
      "\n",
      "Enter your authorization code:\n",
      "··········\n",
      "Mounted at /content/drive\n"
     ]
    }
   ],
   "source": [
    "from google.colab import drive\n",
    "drive.mount('/content/drive')"
   ]
  },
  {
   "cell_type": "code",
   "execution_count": 0,
   "metadata": {
    "colab": {},
    "colab_type": "code",
    "id": "BCbBidMn9cuk"
   },
   "outputs": [],
   "source": [
    "import numpy as np # linear algebra\n",
    "import pandas as pd # data processing, CSV file I/O (e.g. pd.read_csv)\n",
    "\n",
    "\n",
    "import datetime\n",
    "import time\n",
    "from time import strftime, gmtime\n"
   ]
  },
  {
   "cell_type": "markdown",
   "metadata": {
    "colab_type": "text",
    "id": "B2jEcCiY4idD"
   },
   "source": [
    "# **Data Pre-Processing**\n",
    "\n",
    "> \n",
    "\n",
    "\n"
   ]
  },
  {
   "cell_type": "code",
   "execution_count": 0,
   "metadata": {
    "colab": {},
    "colab_type": "code",
    "id": "Uc37Ubtj9cu_"
   },
   "outputs": [],
   "source": [
    "df_flights = pd.read_csv(\"drive/My Drive/Data Mining/flights.csv\", low_memory=False)"
   ]
  },
  {
   "cell_type": "code",
   "execution_count": 4,
   "metadata": {
    "colab": {
     "base_uri": "https://localhost:8080/",
     "height": 222
    },
    "colab_type": "code",
    "executionInfo": {
     "elapsed": 23387,
     "status": "ok",
     "timestamp": 1583150557550,
     "user": {
      "displayName": "Gauri Gupta",
      "photoUrl": "https://lh3.googleusercontent.com/a-/AOh14GjZ1jKXyGWpnYo5kU18ZNfK1f7x0-Rxorw1w-EPZw=s64",
      "userId": "13281876057161016479"
     },
     "user_tz": -330
    },
    "id": "6PT9xkpr9cvN",
    "outputId": "5565b593-a18a-4a94-b0b6-393e9f063ad8"
   },
   "outputs": [
    {
     "data": {
      "text/html": [
       "<div>\n",
       "<style scoped>\n",
       "    .dataframe tbody tr th:only-of-type {\n",
       "        vertical-align: middle;\n",
       "    }\n",
       "\n",
       "    .dataframe tbody tr th {\n",
       "        vertical-align: top;\n",
       "    }\n",
       "\n",
       "    .dataframe thead th {\n",
       "        text-align: right;\n",
       "    }\n",
       "</style>\n",
       "<table border=\"1\" class=\"dataframe\">\n",
       "  <thead>\n",
       "    <tr style=\"text-align: right;\">\n",
       "      <th></th>\n",
       "      <th>YEAR</th>\n",
       "      <th>MONTH</th>\n",
       "      <th>DAY</th>\n",
       "      <th>DAY_OF_WEEK</th>\n",
       "      <th>AIRLINE</th>\n",
       "      <th>FLIGHT_NUMBER</th>\n",
       "      <th>TAIL_NUMBER</th>\n",
       "      <th>ORIGIN_AIRPORT</th>\n",
       "      <th>DESTINATION_AIRPORT</th>\n",
       "      <th>SCHEDULED_DEPARTURE</th>\n",
       "      <th>DEPARTURE_TIME</th>\n",
       "      <th>DEPARTURE_DELAY</th>\n",
       "      <th>TAXI_OUT</th>\n",
       "      <th>WHEELS_OFF</th>\n",
       "      <th>SCHEDULED_TIME</th>\n",
       "      <th>ELAPSED_TIME</th>\n",
       "      <th>AIR_TIME</th>\n",
       "      <th>DISTANCE</th>\n",
       "      <th>WHEELS_ON</th>\n",
       "      <th>TAXI_IN</th>\n",
       "      <th>SCHEDULED_ARRIVAL</th>\n",
       "      <th>ARRIVAL_TIME</th>\n",
       "      <th>ARRIVAL_DELAY</th>\n",
       "      <th>DIVERTED</th>\n",
       "      <th>CANCELLED</th>\n",
       "      <th>CANCELLATION_REASON</th>\n",
       "      <th>AIR_SYSTEM_DELAY</th>\n",
       "      <th>SECURITY_DELAY</th>\n",
       "      <th>AIRLINE_DELAY</th>\n",
       "      <th>LATE_AIRCRAFT_DELAY</th>\n",
       "      <th>WEATHER_DELAY</th>\n",
       "    </tr>\n",
       "  </thead>\n",
       "  <tbody>\n",
       "    <tr>\n",
       "      <th>0</th>\n",
       "      <td>2015</td>\n",
       "      <td>1</td>\n",
       "      <td>1</td>\n",
       "      <td>4</td>\n",
       "      <td>AS</td>\n",
       "      <td>98</td>\n",
       "      <td>N407AS</td>\n",
       "      <td>ANC</td>\n",
       "      <td>SEA</td>\n",
       "      <td>5</td>\n",
       "      <td>2354.0</td>\n",
       "      <td>-11.0</td>\n",
       "      <td>21.0</td>\n",
       "      <td>15.0</td>\n",
       "      <td>205.0</td>\n",
       "      <td>194.0</td>\n",
       "      <td>169.0</td>\n",
       "      <td>1448</td>\n",
       "      <td>404.0</td>\n",
       "      <td>4.0</td>\n",
       "      <td>430</td>\n",
       "      <td>408.0</td>\n",
       "      <td>-22.0</td>\n",
       "      <td>0</td>\n",
       "      <td>0</td>\n",
       "      <td>NaN</td>\n",
       "      <td>NaN</td>\n",
       "      <td>NaN</td>\n",
       "      <td>NaN</td>\n",
       "      <td>NaN</td>\n",
       "      <td>NaN</td>\n",
       "    </tr>\n",
       "    <tr>\n",
       "      <th>1</th>\n",
       "      <td>2015</td>\n",
       "      <td>1</td>\n",
       "      <td>1</td>\n",
       "      <td>4</td>\n",
       "      <td>AA</td>\n",
       "      <td>2336</td>\n",
       "      <td>N3KUAA</td>\n",
       "      <td>LAX</td>\n",
       "      <td>PBI</td>\n",
       "      <td>10</td>\n",
       "      <td>2.0</td>\n",
       "      <td>-8.0</td>\n",
       "      <td>12.0</td>\n",
       "      <td>14.0</td>\n",
       "      <td>280.0</td>\n",
       "      <td>279.0</td>\n",
       "      <td>263.0</td>\n",
       "      <td>2330</td>\n",
       "      <td>737.0</td>\n",
       "      <td>4.0</td>\n",
       "      <td>750</td>\n",
       "      <td>741.0</td>\n",
       "      <td>-9.0</td>\n",
       "      <td>0</td>\n",
       "      <td>0</td>\n",
       "      <td>NaN</td>\n",
       "      <td>NaN</td>\n",
       "      <td>NaN</td>\n",
       "      <td>NaN</td>\n",
       "      <td>NaN</td>\n",
       "      <td>NaN</td>\n",
       "    </tr>\n",
       "    <tr>\n",
       "      <th>2</th>\n",
       "      <td>2015</td>\n",
       "      <td>1</td>\n",
       "      <td>1</td>\n",
       "      <td>4</td>\n",
       "      <td>US</td>\n",
       "      <td>840</td>\n",
       "      <td>N171US</td>\n",
       "      <td>SFO</td>\n",
       "      <td>CLT</td>\n",
       "      <td>20</td>\n",
       "      <td>18.0</td>\n",
       "      <td>-2.0</td>\n",
       "      <td>16.0</td>\n",
       "      <td>34.0</td>\n",
       "      <td>286.0</td>\n",
       "      <td>293.0</td>\n",
       "      <td>266.0</td>\n",
       "      <td>2296</td>\n",
       "      <td>800.0</td>\n",
       "      <td>11.0</td>\n",
       "      <td>806</td>\n",
       "      <td>811.0</td>\n",
       "      <td>5.0</td>\n",
       "      <td>0</td>\n",
       "      <td>0</td>\n",
       "      <td>NaN</td>\n",
       "      <td>NaN</td>\n",
       "      <td>NaN</td>\n",
       "      <td>NaN</td>\n",
       "      <td>NaN</td>\n",
       "      <td>NaN</td>\n",
       "    </tr>\n",
       "    <tr>\n",
       "      <th>3</th>\n",
       "      <td>2015</td>\n",
       "      <td>1</td>\n",
       "      <td>1</td>\n",
       "      <td>4</td>\n",
       "      <td>AA</td>\n",
       "      <td>258</td>\n",
       "      <td>N3HYAA</td>\n",
       "      <td>LAX</td>\n",
       "      <td>MIA</td>\n",
       "      <td>20</td>\n",
       "      <td>15.0</td>\n",
       "      <td>-5.0</td>\n",
       "      <td>15.0</td>\n",
       "      <td>30.0</td>\n",
       "      <td>285.0</td>\n",
       "      <td>281.0</td>\n",
       "      <td>258.0</td>\n",
       "      <td>2342</td>\n",
       "      <td>748.0</td>\n",
       "      <td>8.0</td>\n",
       "      <td>805</td>\n",
       "      <td>756.0</td>\n",
       "      <td>-9.0</td>\n",
       "      <td>0</td>\n",
       "      <td>0</td>\n",
       "      <td>NaN</td>\n",
       "      <td>NaN</td>\n",
       "      <td>NaN</td>\n",
       "      <td>NaN</td>\n",
       "      <td>NaN</td>\n",
       "      <td>NaN</td>\n",
       "    </tr>\n",
       "    <tr>\n",
       "      <th>4</th>\n",
       "      <td>2015</td>\n",
       "      <td>1</td>\n",
       "      <td>1</td>\n",
       "      <td>4</td>\n",
       "      <td>AS</td>\n",
       "      <td>135</td>\n",
       "      <td>N527AS</td>\n",
       "      <td>SEA</td>\n",
       "      <td>ANC</td>\n",
       "      <td>25</td>\n",
       "      <td>24.0</td>\n",
       "      <td>-1.0</td>\n",
       "      <td>11.0</td>\n",
       "      <td>35.0</td>\n",
       "      <td>235.0</td>\n",
       "      <td>215.0</td>\n",
       "      <td>199.0</td>\n",
       "      <td>1448</td>\n",
       "      <td>254.0</td>\n",
       "      <td>5.0</td>\n",
       "      <td>320</td>\n",
       "      <td>259.0</td>\n",
       "      <td>-21.0</td>\n",
       "      <td>0</td>\n",
       "      <td>0</td>\n",
       "      <td>NaN</td>\n",
       "      <td>NaN</td>\n",
       "      <td>NaN</td>\n",
       "      <td>NaN</td>\n",
       "      <td>NaN</td>\n",
       "      <td>NaN</td>\n",
       "    </tr>\n",
       "  </tbody>\n",
       "</table>\n",
       "</div>"
      ],
      "text/plain": [
       "   YEAR  MONTH  DAY  ...  AIRLINE_DELAY LATE_AIRCRAFT_DELAY  WEATHER_DELAY\n",
       "0  2015      1    1  ...            NaN                 NaN            NaN\n",
       "1  2015      1    1  ...            NaN                 NaN            NaN\n",
       "2  2015      1    1  ...            NaN                 NaN            NaN\n",
       "3  2015      1    1  ...            NaN                 NaN            NaN\n",
       "4  2015      1    1  ...            NaN                 NaN            NaN\n",
       "\n",
       "[5 rows x 31 columns]"
      ]
     },
     "execution_count": 4,
     "metadata": {
      "tags": []
     },
     "output_type": "execute_result"
    }
   ],
   "source": [
    "df_flights.head()"
   ]
  },
  {
   "cell_type": "code",
   "execution_count": 0,
   "metadata": {
    "colab": {},
    "colab_type": "code",
    "id": "R38DF_wS9cvd"
   },
   "outputs": [],
   "source": [
    "# df_flights.count()\n"
   ]
  },
  {
   "cell_type": "code",
   "execution_count": 0,
   "metadata": {
    "colab": {},
    "colab_type": "code",
    "id": "ydtIGCoL9cvq"
   },
   "outputs": [],
   "source": [
    "# df_flights.dtypes"
   ]
  },
  {
   "cell_type": "code",
   "execution_count": 0,
   "metadata": {
    "colab": {},
    "colab_type": "code",
    "id": "wEuouhuG9cv8"
   },
   "outputs": [],
   "source": [
    "def conv_time(time_val):\n",
    "    if pd.isnull(time_val):\n",
    "        return np.nan\n",
    "    else:\n",
    "            # replace 24:00 o'clock with 00:00 o'clock:\n",
    "        if time_val == 2400: time_val = 0\n",
    "            # creating a 4 digit value out of input value:\n",
    "        time_val = \"{0:04d}\".format(int(time_val))\n",
    "            # creating a time datatype out of input value: \n",
    "        time_formatted = datetime.time(int(time_val[0:2]), int(time_val[2:4]))\n",
    "    return time_formatted"
   ]
  },
  {
   "cell_type": "code",
   "execution_count": 0,
   "metadata": {
    "colab": {},
    "colab_type": "code",
    "id": "kqoFUYyb9cwL"
   },
   "outputs": [],
   "source": [
    "### # convert ARRIVAL_TIME to datetime time format and write it back into df field ARRIVAL_TIME:\n",
    "df_flights['ARRIVAL_TIME'] = df_flights['ARRIVAL_TIME'].apply(conv_time)\n",
    "df_flights['DEPARTURE_TIME'] = df_flights['DEPARTURE_TIME'].apply(conv_time)\n",
    "df_flights['SCHEDULED_DEPARTURE'] = df_flights['SCHEDULED_DEPARTURE'].apply(conv_time)\n",
    "df_flights['WHEELS_OFF'] = df_flights['WHEELS_OFF'].apply(conv_time)\n",
    "df_flights['WHEELS_ON'] = df_flights['WHEELS_ON'].apply(conv_time)\n",
    "df_flights['SCHEDULED_ARRIVAL'] = df_flights['SCHEDULED_ARRIVAL'].apply(conv_time)"
   ]
  },
  {
   "cell_type": "code",
   "execution_count": 8,
   "metadata": {
    "colab": {
     "base_uri": "https://localhost:8080/",
     "height": 381
    },
    "colab_type": "code",
    "executionInfo": {
     "elapsed": 80716,
     "status": "ok",
     "timestamp": 1583150616658,
     "user": {
      "displayName": "Gauri Gupta",
      "photoUrl": "https://lh3.googleusercontent.com/a-/AOh14GjZ1jKXyGWpnYo5kU18ZNfK1f7x0-Rxorw1w-EPZw=s64",
      "userId": "13281876057161016479"
     },
     "user_tz": -330
    },
    "id": "-OqwqXGZ9cwZ",
    "outputId": "910d07d6-04ec-49d4-a1cc-268aae959cd6"
   },
   "outputs": [
    {
     "data": {
      "text/plain": [
       "YEAR                     int64\n",
       "MONTH                    int64\n",
       "DAY                      int64\n",
       "SCHEDULED_DEPARTURE     object\n",
       "DEPARTURE_TIME          object\n",
       "DEPARTURE_DELAY        float64\n",
       "TAXI_OUT               float64\n",
       "WHEELS_OFF              object\n",
       "SCHEDULED_TIME         float64\n",
       "ELAPSED_TIME           float64\n",
       "AIR_TIME               float64\n",
       "WHEELS_ON               object\n",
       "TAXI_IN                float64\n",
       "SCHEDULED_ARRIVAL       object\n",
       "ARRIVAL_TIME            object\n",
       "ARRIVAL_DELAY          float64\n",
       "AIR_SYSTEM_DELAY       float64\n",
       "SECURITY_DELAY         float64\n",
       "AIRLINE_DELAY          float64\n",
       "LATE_AIRCRAFT_DELAY    float64\n",
       "dtype: object"
      ]
     },
     "execution_count": 8,
     "metadata": {
      "tags": []
     },
     "output_type": "execute_result"
    }
   ],
   "source": [
    "df_flights[['YEAR','MONTH','DAY','SCHEDULED_DEPARTURE','DEPARTURE_TIME', 'DEPARTURE_DELAY', 'TAXI_OUT',\n",
    "       'WHEELS_OFF', 'SCHEDULED_TIME', 'ELAPSED_TIME', 'AIR_TIME','WHEELS_ON', 'TAXI_IN', 'SCHEDULED_ARRIVAL'\n",
    "            ,'ARRIVAL_TIME','ARRIVAL_DELAY','AIR_SYSTEM_DELAY','SECURITY_DELAY','AIRLINE_DELAY','LATE_AIRCRAFT_DELAY']].dtypes"
   ]
  },
  {
   "cell_type": "code",
   "execution_count": 0,
   "metadata": {
    "colab": {},
    "colab_type": "code",
    "id": "ifR-SPeL9cwo"
   },
   "outputs": [],
   "source": [
    "# null value analysing function.\n",
    "# gives some infos on columns types and number of null values:\n",
    "def nullAnalysis(df):\n",
    "    tab_info=pd.DataFrame(df.dtypes).T.rename(index={0:'column type'})\n",
    "\n",
    "    tab_info=tab_info.append(pd.DataFrame(df.isnull().sum()).T.rename(index={0:'null values (nb)'}))\n",
    "    tab_info=tab_info.append(pd.DataFrame(df.isnull().sum()/df.shape[0]*100)\n",
    "                         .T.rename(index={0:'null values (%)'}))\n",
    "    return tab_info"
   ]
  },
  {
   "cell_type": "code",
   "execution_count": 0,
   "metadata": {
    "colab": {},
    "colab_type": "code",
    "id": "5NxhKCQG9cw4"
   },
   "outputs": [],
   "source": [
    "# nullAnalysis(df_flights)"
   ]
  },
  {
   "cell_type": "code",
   "execution_count": 11,
   "metadata": {
    "colab": {
     "base_uri": "https://localhost:8080/",
     "height": 222
    },
    "colab_type": "code",
    "executionInfo": {
     "elapsed": 80124,
     "status": "ok",
     "timestamp": 1583150617082,
     "user": {
      "displayName": "Gauri Gupta",
      "photoUrl": "https://lh3.googleusercontent.com/a-/AOh14GjZ1jKXyGWpnYo5kU18ZNfK1f7x0-Rxorw1w-EPZw=s64",
      "userId": "13281876057161016479"
     },
     "user_tz": -330
    },
    "id": "v8-JyBzm9cxD",
    "outputId": "ffd6dfe2-3552-4910-e3a5-801a160ad6d6"
   },
   "outputs": [
    {
     "data": {
      "text/html": [
       "<div>\n",
       "<style scoped>\n",
       "    .dataframe tbody tr th:only-of-type {\n",
       "        vertical-align: middle;\n",
       "    }\n",
       "\n",
       "    .dataframe tbody tr th {\n",
       "        vertical-align: top;\n",
       "    }\n",
       "\n",
       "    .dataframe thead th {\n",
       "        text-align: right;\n",
       "    }\n",
       "</style>\n",
       "<table border=\"1\" class=\"dataframe\">\n",
       "  <thead>\n",
       "    <tr style=\"text-align: right;\">\n",
       "      <th></th>\n",
       "      <th>AIRLINE_DELAY</th>\n",
       "      <th>AIR_SYSTEM_DELAY</th>\n",
       "      <th>SECURITY_DELAY</th>\n",
       "      <th>AIRLINE_DELAY</th>\n",
       "      <th>LATE_AIRCRAFT_DELAY</th>\n",
       "      <th>WEATHER_DELAY</th>\n",
       "    </tr>\n",
       "  </thead>\n",
       "  <tbody>\n",
       "    <tr>\n",
       "      <th>27</th>\n",
       "      <td>0.0</td>\n",
       "      <td>25.0</td>\n",
       "      <td>0.0</td>\n",
       "      <td>0.0</td>\n",
       "      <td>0.0</td>\n",
       "      <td>0.0</td>\n",
       "    </tr>\n",
       "    <tr>\n",
       "      <th>30</th>\n",
       "      <td>0.0</td>\n",
       "      <td>43.0</td>\n",
       "      <td>0.0</td>\n",
       "      <td>0.0</td>\n",
       "      <td>0.0</td>\n",
       "      <td>0.0</td>\n",
       "    </tr>\n",
       "    <tr>\n",
       "      <th>35</th>\n",
       "      <td>15.0</td>\n",
       "      <td>0.0</td>\n",
       "      <td>0.0</td>\n",
       "      <td>15.0</td>\n",
       "      <td>0.0</td>\n",
       "      <td>0.0</td>\n",
       "    </tr>\n",
       "    <tr>\n",
       "      <th>50</th>\n",
       "      <td>0.0</td>\n",
       "      <td>20.0</td>\n",
       "      <td>0.0</td>\n",
       "      <td>0.0</td>\n",
       "      <td>0.0</td>\n",
       "      <td>0.0</td>\n",
       "    </tr>\n",
       "    <tr>\n",
       "      <th>52</th>\n",
       "      <td>85.0</td>\n",
       "      <td>0.0</td>\n",
       "      <td>0.0</td>\n",
       "      <td>85.0</td>\n",
       "      <td>0.0</td>\n",
       "      <td>0.0</td>\n",
       "    </tr>\n",
       "  </tbody>\n",
       "</table>\n",
       "</div>"
      ],
      "text/plain": [
       "    AIRLINE_DELAY  AIR_SYSTEM_DELAY  ...  LATE_AIRCRAFT_DELAY  WEATHER_DELAY\n",
       "27            0.0              25.0  ...                  0.0            0.0\n",
       "30            0.0              43.0  ...                  0.0            0.0\n",
       "35           15.0               0.0  ...                  0.0            0.0\n",
       "50            0.0              20.0  ...                  0.0            0.0\n",
       "52           85.0               0.0  ...                  0.0            0.0\n",
       "\n",
       "[5 rows x 6 columns]"
      ]
     },
     "execution_count": 11,
     "metadata": {
      "tags": []
     },
     "output_type": "execute_result"
    }
   ],
   "source": [
    "# show selected columns where AIRLINE_DELAY isnot null\n",
    "df_flights.loc[df_flights['AIRLINE_DELAY'].notnull(), ['AIRLINE_DELAY','AIR_SYSTEM_DELAY','SECURITY_DELAY','AIRLINE_DELAY','LATE_AIRCRAFT_DELAY','WEATHER_DELAY']].head()"
   ]
  },
  {
   "cell_type": "code",
   "execution_count": 0,
   "metadata": {
    "colab": {},
    "colab_type": "code",
    "id": "OwMEtmAt9cxM"
   },
   "outputs": [],
   "source": [
    "df_flights['AIRLINE_DELAY'] = df_flights['AIRLINE_DELAY'].fillna(0)\n",
    "df_flights['AIR_SYSTEM_DELAY'] = df_flights['AIR_SYSTEM_DELAY'].fillna(0)\n",
    "df_flights['SECURITY_DELAY'] = df_flights['SECURITY_DELAY'].fillna(0)\n",
    "df_flights['LATE_AIRCRAFT_DELAY'] = df_flights['LATE_AIRCRAFT_DELAY'].fillna(0)\n",
    "df_flights['WEATHER_DELAY'] = df_flights['WEATHER_DELAY'].fillna(0)"
   ]
  },
  {
   "cell_type": "code",
   "execution_count": 0,
   "metadata": {
    "colab": {},
    "colab_type": "code",
    "id": "IEZ5Roo69cxS"
   },
   "outputs": [],
   "source": [
    "# nullAnalysis(df_flights)"
   ]
  },
  {
   "cell_type": "code",
   "execution_count": 14,
   "metadata": {
    "colab": {
     "base_uri": "https://localhost:8080/",
     "height": 104
    },
    "colab_type": "code",
    "executionInfo": {
     "elapsed": 79490,
     "status": "ok",
     "timestamp": 1583150617498,
     "user": {
      "displayName": "Gauri Gupta",
      "photoUrl": "https://lh3.googleusercontent.com/a-/AOh14GjZ1jKXyGWpnYo5kU18ZNfK1f7x0-Rxorw1w-EPZw=s64",
      "userId": "13281876057161016479"
     },
     "user_tz": -330
    },
    "id": "t_egcM3Z9cxZ",
    "outputId": "85f52ab7-3a4b-44fb-b22a-2435b18c87c1"
   },
   "outputs": [
    {
     "data": {
      "text/plain": [
       "B    48851\n",
       "A    25262\n",
       "C    15749\n",
       "D       22\n",
       "Name: CANCELLATION_REASON, dtype: int64"
      ]
     },
     "execution_count": 14,
     "metadata": {
      "tags": []
     },
     "output_type": "execute_result"
    }
   ],
   "source": [
    "# group by CANCELLATION_REASON to see the ration\n",
    "df_flights['CANCELLATION_REASON'].value_counts()\n",
    "\n"
   ]
  },
  {
   "cell_type": "code",
   "execution_count": 0,
   "metadata": {
    "colab": {},
    "colab_type": "code",
    "id": "7uqPowLI9cxi"
   },
   "outputs": [],
   "source": [
    "# -------------------------------------\n",
    "# converting categoric value to numeric\n",
    "df_flights.loc[df_flights['CANCELLATION_REASON'] == 'A', 'CANCELLATION_REASON'] = 1\n",
    "df_flights.loc[df_flights['CANCELLATION_REASON'] == 'B', 'CANCELLATION_REASON'] = 2\n",
    "df_flights.loc[df_flights['CANCELLATION_REASON'] == 'C', 'CANCELLATION_REASON'] = 3\n",
    "df_flights.loc[df_flights['CANCELLATION_REASON'] == 'D', 'CANCELLATION_REASON'] = 4\n",
    "\n",
    "# -----------------------------------\n",
    "# converting NaN data to numeric zero\n",
    "df_flights['CANCELLATION_REASON'] = df_flights['CANCELLATION_REASON'].fillna(0)"
   ]
  },
  {
   "cell_type": "code",
   "execution_count": 0,
   "metadata": {
    "colab": {},
    "colab_type": "code",
    "id": "30CE-Nym9cxq"
   },
   "outputs": [],
   "source": [
    "# nullAnalysis(df_flights)"
   ]
  },
  {
   "cell_type": "code",
   "execution_count": 0,
   "metadata": {
    "colab": {},
    "colab_type": "code",
    "id": "WeBVqdH79cxx"
   },
   "outputs": [],
   "source": [
    "# drop the last 1% of missing data rows.\n",
    "df_flights = df_flights.dropna(axis=0)"
   ]
  },
  {
   "cell_type": "code",
   "execution_count": 0,
   "metadata": {
    "colab": {},
    "colab_type": "code",
    "id": "M6CRTZtr9cx3"
   },
   "outputs": [],
   "source": [
    "# df_flights['ARRIVAL_TIME'].head()"
   ]
  },
  {
   "cell_type": "code",
   "execution_count": 19,
   "metadata": {
    "colab": {
     "base_uri": "https://localhost:8080/",
     "height": 225
    },
    "colab_type": "code",
    "executionInfo": {
     "elapsed": 82924,
     "status": "ok",
     "timestamp": 1583150624024,
     "user": {
      "displayName": "Gauri Gupta",
      "photoUrl": "https://lh3.googleusercontent.com/a-/AOh14GjZ1jKXyGWpnYo5kU18ZNfK1f7x0-Rxorw1w-EPZw=s64",
      "userId": "13281876057161016479"
     },
     "user_tz": -330
    },
    "id": "BRtB0LSuazd_",
    "outputId": "949f1eb3-c12c-4db9-bf66-afb6a3973dcc"
   },
   "outputs": [
    {
     "data": {
      "text/plain": [
       "ATL      343506\n",
       "ORD      276554\n",
       "DFW      232647\n",
       "DEN      193402\n",
       "LAX      192003\n",
       "          ...  \n",
       "13541        11\n",
       "14222         9\n",
       "10165         9\n",
       "13502         6\n",
       "11503         4\n",
       "Name: ORIGIN_AIRPORT, Length: 628, dtype: int64"
      ]
     },
     "execution_count": 19,
     "metadata": {
      "tags": []
     },
     "output_type": "execute_result"
    }
   ],
   "source": [
    "df_flights['ORIGIN_AIRPORT'].value_counts()"
   ]
  },
  {
   "cell_type": "code",
   "execution_count": 0,
   "metadata": {
    "colab": {},
    "colab_type": "code",
    "id": "VcLtcJ9b9cx9"
   },
   "outputs": [],
   "source": [
    "# Only using data from January\n",
    "from sklearn.utils import shuffle\n",
    "\n",
    "df_flights_jan = df_flights.loc[(df_flights.loc[:,'YEAR'] == 2015 ) & (df_flights.loc[:,'MONTH'] == 1 )]\n",
    "df_flights_jan = shuffle(df_flights_jan)[:10000]\n"
   ]
  },
  {
   "cell_type": "code",
   "execution_count": 0,
   "metadata": {
    "colab": {},
    "colab_type": "code",
    "id": "4018_LJE9cyF"
   },
   "outputs": [],
   "source": [
    "\n",
    "feature_list = [\n",
    "    'YEAR'\n",
    "    ,'MONTH'\n",
    "    ,'DAY'\n",
    "    , 'DAY_OF_WEEK'\n",
    "    ,'AIRLINE'\n",
    "    , 'ORIGIN_AIRPORT'\n",
    "    , 'DESTINATION_AIRPORT'\n",
    "    ,'LATE_AIRCRAFT_DELAY'\n",
    "    ,'AIRLINE_DELAY'\n",
    "    ,'AIR_SYSTEM_DELAY'\n",
    "    ,'WEATHER_DELAY'\n",
    "    ,'ELAPSED_TIME'\n",
    "    ,'DEPARTURE_DELAY'\n",
    "    ,'SCHEDULED_TIME'\n",
    "    ,'AIR_TIME'\n",
    "    ,'DISTANCE'\n",
    "    ,'TAXI_IN'\n",
    "    ,'TAXI_OUT'\n",
    "    ,'SECURITY_DELAY'\n",
    "]\n",
    "\n",
    "X = df_flights_jan[feature_list]"
   ]
  },
  {
   "cell_type": "code",
   "execution_count": 22,
   "metadata": {
    "colab": {
     "base_uri": "https://localhost:8080/",
     "height": 141
    },
    "colab_type": "code",
    "executionInfo": {
     "elapsed": 80793,
     "status": "ok",
     "timestamp": 1583150625278,
     "user": {
      "displayName": "Gauri Gupta",
      "photoUrl": "https://lh3.googleusercontent.com/a-/AOh14GjZ1jKXyGWpnYo5kU18ZNfK1f7x0-Rxorw1w-EPZw=s64",
      "userId": "13281876057161016479"
     },
     "user_tz": -330
    },
    "id": "yHcsB5KF9cyL",
    "outputId": "77f5586f-fead-42df-ac00-6d5e80c2b4d6"
   },
   "outputs": [
    {
     "name": "stderr",
     "output_type": "stream",
     "text": [
      "/usr/local/lib/python3.6/dist-packages/pandas/core/indexing.py:494: SettingWithCopyWarning: \n",
      "A value is trying to be set on a copy of a slice from a DataFrame.\n",
      "Try using .loc[row_indexer,col_indexer] = value instead\n",
      "\n",
      "See the caveats in the documentation: http://pandas.pydata.org/pandas-docs/stable/user_guide/indexing.html#returning-a-view-versus-a-copy\n",
      "  self.obj[item] = s\n"
     ]
    }
   ],
   "source": [
    "# Label encoding of AIRLINE and write this back to df\n",
    "from sklearn.preprocessing import LabelEncoder\n",
    "labelenc = LabelEncoder()\n",
    "\n",
    "# Converting \"category\" airline to integer values\n",
    "X.iloc[:,feature_list.index('AIRLINE')] = labelenc.fit_transform(X.iloc[:,feature_list.index('AIRLINE')])"
   ]
  },
  {
   "cell_type": "code",
   "execution_count": 23,
   "metadata": {
    "colab": {
     "base_uri": "https://localhost:8080/",
     "height": 141
    },
    "colab_type": "code",
    "executionInfo": {
     "elapsed": 80374,
     "status": "ok",
     "timestamp": 1583150625280,
     "user": {
      "displayName": "Gauri Gupta",
      "photoUrl": "https://lh3.googleusercontent.com/a-/AOh14GjZ1jKXyGWpnYo5kU18ZNfK1f7x0-Rxorw1w-EPZw=s64",
      "userId": "13281876057161016479"
     },
     "user_tz": -330
    },
    "id": "BqacshPg9cyR",
    "outputId": "075803ac-34fc-4f15-b9fd-98d3a68490a6"
   },
   "outputs": [
    {
     "name": "stderr",
     "output_type": "stream",
     "text": [
      "/usr/local/lib/python3.6/dist-packages/pandas/core/indexing.py:494: SettingWithCopyWarning: \n",
      "A value is trying to be set on a copy of a slice from a DataFrame.\n",
      "Try using .loc[row_indexer,col_indexer] = value instead\n",
      "\n",
      "See the caveats in the documentation: http://pandas.pydata.org/pandas-docs/stable/user_guide/indexing.html#returning-a-view-versus-a-copy\n",
      "  self.obj[item] = s\n"
     ]
    }
   ],
   "source": [
    "# Label encoding of ORIGIN_AIRPORT and write this back to df\n",
    "from sklearn.preprocessing import LabelEncoder\n",
    "labelenc = LabelEncoder()\n",
    "\n",
    "# Converting \"category\" airline to integer values\n",
    "X.iloc[:,feature_list.index('ORIGIN_AIRPORT')] = labelenc.fit_transform(X.iloc[:,feature_list.index('ORIGIN_AIRPORT')])"
   ]
  },
  {
   "cell_type": "code",
   "execution_count": 24,
   "metadata": {
    "colab": {
     "base_uri": "https://localhost:8080/",
     "height": 141
    },
    "colab_type": "code",
    "executionInfo": {
     "elapsed": 80044,
     "status": "ok",
     "timestamp": 1583150625282,
     "user": {
      "displayName": "Gauri Gupta",
      "photoUrl": "https://lh3.googleusercontent.com/a-/AOh14GjZ1jKXyGWpnYo5kU18ZNfK1f7x0-Rxorw1w-EPZw=s64",
      "userId": "13281876057161016479"
     },
     "user_tz": -330
    },
    "id": "voKeTWf09cyW",
    "outputId": "7ed12d4c-7a4e-4098-bdd7-31bdcc948c78"
   },
   "outputs": [
    {
     "name": "stderr",
     "output_type": "stream",
     "text": [
      "/usr/local/lib/python3.6/dist-packages/pandas/core/indexing.py:494: SettingWithCopyWarning: \n",
      "A value is trying to be set on a copy of a slice from a DataFrame.\n",
      "Try using .loc[row_indexer,col_indexer] = value instead\n",
      "\n",
      "See the caveats in the documentation: http://pandas.pydata.org/pandas-docs/stable/user_guide/indexing.html#returning-a-view-versus-a-copy\n",
      "  self.obj[item] = s\n"
     ]
    }
   ],
   "source": [
    "# Label encoding of DESTINATION_AIRPORT and write this back to df\n",
    "from sklearn.preprocessing import LabelEncoder\n",
    "labelenc = LabelEncoder()\n",
    "\n",
    "# Converting \"category\" airline to integer values\n",
    "X.iloc[:,feature_list.index('DESTINATION_AIRPORT')] = labelenc.fit_transform(X.iloc[:,feature_list.index('DESTINATION_AIRPORT')])"
   ]
  },
  {
   "cell_type": "code",
   "execution_count": 0,
   "metadata": {
    "colab": {},
    "colab_type": "code",
    "id": "da-SK8I19cyZ"
   },
   "outputs": [],
   "source": [
    "X = np.array(X)\n",
    "y = df_flights_jan.ARRIVAL_DELAY\n",
    "y = np.array(y)"
   ]
  },
  {
   "cell_type": "code",
   "execution_count": 0,
   "metadata": {
    "colab": {},
    "colab_type": "code",
    "id": "qhugUlxx9cyd"
   },
   "outputs": [],
   "source": [
    "from sklearn.model_selection import train_test_split\n",
    "X_train, X_test, y_train, y_test = train_test_split(X, y, test_size = 0.35, random_state = 42)"
   ]
  },
  {
   "cell_type": "code",
   "execution_count": 27,
   "metadata": {
    "colab": {
     "base_uri": "https://localhost:8080/",
     "height": 87
    },
    "colab_type": "code",
    "executionInfo": {
     "elapsed": 78107,
     "status": "ok",
     "timestamp": 1583150625292,
     "user": {
      "displayName": "Gauri Gupta",
      "photoUrl": "https://lh3.googleusercontent.com/a-/AOh14GjZ1jKXyGWpnYo5kU18ZNfK1f7x0-Rxorw1w-EPZw=s64",
      "userId": "13281876057161016479"
     },
     "user_tz": -330
    },
    "id": "VDkkjZq59cyj",
    "outputId": "b6e78244-4b2f-4aa6-f0d6-f28900f103d9"
   },
   "outputs": [
    {
     "name": "stdout",
     "output_type": "stream",
     "text": [
      "Training Features Shape: (6500, 19)\n",
      "Training Labels Shape: (6500,)\n",
      "Testing Features Shape: (3500, 19)\n",
      "Testing Labels Shape: (3500,)\n"
     ]
    }
   ],
   "source": [
    "print('Training Features Shape:', X_train.shape)\n",
    "print('Training Labels Shape:', y_train.shape)\n",
    "print('Testing Features Shape:', X_test.shape)\n",
    "print('Testing Labels Shape:', y_test.shape)"
   ]
  },
  {
   "cell_type": "markdown",
   "metadata": {
    "colab_type": "text",
    "id": "j7AUbLF24-pk"
   },
   "source": [
    "## **Decision Tree Regressor**"
   ]
  },
  {
   "cell_type": "code",
   "execution_count": 0,
   "metadata": {
    "colab": {},
    "colab_type": "code",
    "id": "BGk0NiXd9cyo"
   },
   "outputs": [],
   "source": [
    "from sklearn.tree import DecisionTreeRegressor\n",
    "import matplotlib.pyplot as plt"
   ]
  },
  {
   "cell_type": "code",
   "execution_count": 0,
   "metadata": {
    "colab": {
     "base_uri": "https://localhost:8080/",
     "height": 121
    },
    "colab_type": "code",
    "executionInfo": {
     "elapsed": 1190,
     "status": "ok",
     "timestamp": 1583043656375,
     "user": {
      "displayName": "Gauri Gupta",
      "photoUrl": "https://lh3.googleusercontent.com/a-/AOh14GjZ1jKXyGWpnYo5kU18ZNfK1f7x0-Rxorw1w-EPZw=s64",
      "userId": "13281876057161016479"
     },
     "user_tz": -330
    },
    "id": "9mKS2mK09cyr",
    "outputId": "fb6e4b6d-5ab9-4934-e033-73a96f85b9ae"
   },
   "outputs": [
    {
     "data": {
      "text/plain": [
       "DecisionTreeRegressor(ccp_alpha=0.0, criterion='mse', max_depth=10,\n",
       "                      max_features=None, max_leaf_nodes=None,\n",
       "                      min_impurity_decrease=0.0, min_impurity_split=None,\n",
       "                      min_samples_leaf=1, min_samples_split=2,\n",
       "                      min_weight_fraction_leaf=0.0, presort='deprecated',\n",
       "                      random_state=None, splitter='best')"
      ]
     },
     "execution_count": 30,
     "metadata": {
      "tags": []
     },
     "output_type": "execute_result"
    }
   ],
   "source": [
    "regr_1 = DecisionTreeRegressor(max_depth=10)\n",
    "regr_1.fit(X_train, y_train)"
   ]
  },
  {
   "cell_type": "code",
   "execution_count": 0,
   "metadata": {
    "colab": {},
    "colab_type": "code",
    "id": "oan0T_4s9cyu"
   },
   "outputs": [],
   "source": [
    "y_pred = regr_1.predict(X_test)"
   ]
  },
  {
   "cell_type": "code",
   "execution_count": 0,
   "metadata": {
    "colab": {
     "base_uri": "https://localhost:8080/",
     "height": 202
    },
    "colab_type": "code",
    "executionInfo": {
     "elapsed": 820,
     "status": "ok",
     "timestamp": 1583043656930,
     "user": {
      "displayName": "Gauri Gupta",
      "photoUrl": "https://lh3.googleusercontent.com/a-/AOh14GjZ1jKXyGWpnYo5kU18ZNfK1f7x0-Rxorw1w-EPZw=s64",
      "userId": "13281876057161016479"
     },
     "user_tz": -330
    },
    "id": "HwC0P_af9cyy",
    "outputId": "cb3f9282-97ff-486d-8a58-839e808a4dae"
   },
   "outputs": [
    {
     "data": {
      "text/html": [
       "<div>\n",
       "<style scoped>\n",
       "    .dataframe tbody tr th:only-of-type {\n",
       "        vertical-align: middle;\n",
       "    }\n",
       "\n",
       "    .dataframe tbody tr th {\n",
       "        vertical-align: top;\n",
       "    }\n",
       "\n",
       "    .dataframe thead th {\n",
       "        text-align: right;\n",
       "    }\n",
       "</style>\n",
       "<table border=\"1\" class=\"dataframe\">\n",
       "  <thead>\n",
       "    <tr style=\"text-align: right;\">\n",
       "      <th></th>\n",
       "      <th>Actual</th>\n",
       "      <th>Predicted</th>\n",
       "    </tr>\n",
       "  </thead>\n",
       "  <tbody>\n",
       "    <tr>\n",
       "      <th>0</th>\n",
       "      <td>-1.0</td>\n",
       "      <td>3.196721</td>\n",
       "    </tr>\n",
       "    <tr>\n",
       "      <th>1</th>\n",
       "      <td>-16.0</td>\n",
       "      <td>-11.800839</td>\n",
       "    </tr>\n",
       "    <tr>\n",
       "      <th>2</th>\n",
       "      <td>-12.0</td>\n",
       "      <td>-7.926421</td>\n",
       "    </tr>\n",
       "    <tr>\n",
       "      <th>3</th>\n",
       "      <td>9.0</td>\n",
       "      <td>-11.800839</td>\n",
       "    </tr>\n",
       "    <tr>\n",
       "      <th>4</th>\n",
       "      <td>6.0</td>\n",
       "      <td>-11.800839</td>\n",
       "    </tr>\n",
       "  </tbody>\n",
       "</table>\n",
       "</div>"
      ],
      "text/plain": [
       "   Actual  Predicted\n",
       "0    -1.0   3.196721\n",
       "1   -16.0 -11.800839\n",
       "2   -12.0  -7.926421\n",
       "3     9.0 -11.800839\n",
       "4     6.0 -11.800839"
      ]
     },
     "execution_count": 32,
     "metadata": {
      "tags": []
     },
     "output_type": "execute_result"
    }
   ],
   "source": [
    "df_pred=pd.DataFrame({'Actual':y_test, 'Predicted':y_pred})\n",
    "df_pred.head()"
   ]
  },
  {
   "cell_type": "code",
   "execution_count": 0,
   "metadata": {
    "colab": {
     "base_uri": "https://localhost:8080/",
     "height": 69
    },
    "colab_type": "code",
    "executionInfo": {
     "elapsed": 929,
     "status": "ok",
     "timestamp": 1583043657946,
     "user": {
      "displayName": "Gauri Gupta",
      "photoUrl": "https://lh3.googleusercontent.com/a-/AOh14GjZ1jKXyGWpnYo5kU18ZNfK1f7x0-Rxorw1w-EPZw=s64",
      "userId": "13281876057161016479"
     },
     "user_tz": -330
    },
    "id": "4TGsBZrw9cy3",
    "outputId": "58dc6f79-3108-4a71-927c-11f4b9ab0ebb"
   },
   "outputs": [
    {
     "name": "stdout",
     "output_type": "stream",
     "text": [
      "Mean Absolute Error: 7.1455806554303205\n",
      "Mean Squared Error: 112.44655595374878\n",
      "Root Mean Squared Error: 10.604082042013292\n"
     ]
    }
   ],
   "source": [
    "from sklearn import metrics\n",
    "print('Mean Absolute Error:', metrics.mean_absolute_error(y_test, y_pred))\n",
    "print('Mean Squared Error:', metrics.mean_squared_error(y_test, y_pred))\n",
    "print('Root Mean Squared Error:', np.sqrt(metrics.mean_squared_error(y_test, y_pred)))"
   ]
  },
  {
   "cell_type": "code",
   "execution_count": 0,
   "metadata": {
    "colab": {},
    "colab_type": "code",
    "id": "b737664m9cy7"
   },
   "outputs": [],
   "source": [
    "import seaborn as sns\n",
    "\n",
    "#maschine learning libraries\n",
    "from sklearn.feature_selection import SelectFromModel\n",
    "from sklearn.ensemble import RandomForestClassifier\n",
    "from sklearn.ensemble import RandomForestRegressor\n",
    "from sklearn.model_selection import train_test_split\n",
    "from sklearn.metrics import confusion_matrix \n",
    "\n",
    "from sklearn.metrics import mean_absolute_error\n",
    "from sklearn.svm import SVC\n",
    "\n",
    "import datetime\n",
    "import time\n",
    "from time import strftime, gmtime"
   ]
  },
  {
   "cell_type": "code",
   "execution_count": 0,
   "metadata": {
    "colab": {
     "base_uri": "https://localhost:8080/",
     "height": 87
    },
    "colab_type": "code",
    "executionInfo": {
     "elapsed": 1047,
     "status": "ok",
     "timestamp": 1583043661183,
     "user": {
      "displayName": "Gauri Gupta",
      "photoUrl": "https://lh3.googleusercontent.com/a-/AOh14GjZ1jKXyGWpnYo5kU18ZNfK1f7x0-Rxorw1w-EPZw=s64",
      "userId": "13281876057161016479"
     },
     "user_tz": -330
    },
    "id": "fchJ03sx9czD",
    "outputId": "62234663-e9c1-49be-9f89-44687b4459bc"
   },
   "outputs": [
    {
     "name": "stdout",
     "output_type": "stream",
     "text": [
      "----------------- TRAINING ------------------------\n",
      "r-squared score:  0.9611268699167007\n",
      "------------------- TEST --------------------------\n",
      "r-squared score:  0.9163526429928677\n"
     ]
    }
   ],
   "source": [
    "from sklearn.model_selection import cross_val_score\n",
    "\n",
    "print(\"----------------- TRAINING ------------------------\")\n",
    "print(\"r-squared score: \",regr_1.score(X_train, y_train))\n",
    "print(\"------------------- TEST --------------------------\")\n",
    "print(\"r-squared score: \", regr_1.score(X_test, y_test))\n",
    "#score = cross_val_score(regressor, X_test, y_test)\n",
    "# score = regr_1.score(X_test, y_test)\n",
    "# print(\"Score\")\n",
    "# print(score)\n"
   ]
  },
  {
   "cell_type": "code",
   "execution_count": 0,
   "metadata": {
    "colab": {
     "base_uri": "https://localhost:8080/",
     "height": 295
    },
    "colab_type": "code",
    "executionInfo": {
     "elapsed": 3219,
     "status": "ok",
     "timestamp": 1583043665763,
     "user": {
      "displayName": "Gauri Gupta",
      "photoUrl": "https://lh3.googleusercontent.com/a-/AOh14GjZ1jKXyGWpnYo5kU18ZNfK1f7x0-Rxorw1w-EPZw=s64",
      "userId": "13281876057161016479"
     },
     "user_tz": -330
    },
    "id": "neAHxyd69czK",
    "outputId": "322b4531-5a8a-4b47-d29a-488dc21dc79a"
   },
   "outputs": [
    {
     "data": {
      "image/png": "[encoded data removed]",
      "text/plain": [
       "<Figure size 432x288 with 1 Axes>"
      ]
     },
     "metadata": {
      "tags": []
     },
     "output_type": "display_data"
    }
   ],
   "source": [
    "#vary max depth of the decision tree\n",
    "max_depths = np.linspace(1, 32, 32, endpoint=True)\n",
    "train_results = []\n",
    "test_results = []\n",
    "for i in max_depths:\n",
    "    dt = DecisionTreeRegressor(max_depth=i)\n",
    "    dt.fit(X_train, y_train)\n",
    "    train_pred = dt.predict(X_train)\n",
    "    \n",
    "    # Add R^2 score to previous train results\n",
    "    score = dt.score(X_train, y_train)\n",
    "    train_results.append(score)\n",
    "#     print(score)\n",
    "    y_pred = dt.predict(X_test)\n",
    "    # Add R^2 score to previous test results\n",
    "    score = dt.score(X_test, y_test)\n",
    "    test_results.append(score)\n",
    "#     print(score)\n",
    "from matplotlib.legend_handler import HandlerLine2D\n",
    "line1 = plt.plot(max_depths, train_results, 'b', label='Train Score')\n",
    "line2 = plt.plot(max_depths, test_results, 'r', label='Test Score')\n",
    "plt.legend()\n",
    "plt.ylabel('Score')\n",
    "plt.xlabel('Tree depth')\n",
    "plt.title('Decision Tree regressor')\n",
    "plt.show()"
   ]
  },
  {
   "cell_type": "code",
   "execution_count": 0,
   "metadata": {
    "colab": {
     "base_uri": "https://localhost:8080/",
     "height": 295
    },
    "colab_type": "code",
    "executionInfo": {
     "elapsed": 2297,
     "status": "ok",
     "timestamp": 1583047899399,
     "user": {
      "displayName": "Gauri Gupta",
      "photoUrl": "https://lh3.googleusercontent.com/a-/AOh14GjZ1jKXyGWpnYo5kU18ZNfK1f7x0-Rxorw1w-EPZw=s64",
      "userId": "13281876057161016479"
     },
     "user_tz": -330
    },
    "id": "LSJ23ZAB9czP",
    "outputId": "3202c23b-9b8b-4f85-a8ad-0cdabc4dda72"
   },
   "outputs": [
    {
     "data": {
      "image/png": "[encoded data removed]",
      "text/plain": [
       "<Figure size 432x288 with 1 Axes>"
      ]
     },
     "metadata": {
      "tags": []
     },
     "output_type": "display_data"
    }
   ],
   "source": [
    "#vary min samples split\n",
    "samples = np.linspace(2, 10, 9, endpoint=True)\n",
    "train_results = []\n",
    "test_results = []\n",
    "for i in samples:\n",
    "  dt = DecisionTreeRegressor(min_samples_split=int(i))\n",
    "  dt.fit(X_train, y_train)\n",
    "    # train_pred = dt.predict(X_train)\n",
    "    \n",
    "    # Add R^2 score to previous train results\n",
    "  score = dt.score(X_train, y_train)\n",
    "  train_results.append(score)\n",
    "#     print(score)\n",
    "    # y_pred = dt.predict(X_test)\n",
    "    # Add R^2 score to previous test results\n",
    "  score = dt.score(X_test, y_test)\n",
    "  test_results.append(score)\n",
    "#     print(score)\n",
    "from matplotlib.legend_handler import HandlerLine2D\n",
    "line1 = plt.plot(samples, train_results, 'b', label='Train Score')\n",
    "line2 = plt.plot(samples, test_results, 'r', label='Test Score')\n",
    "plt.legend()\n",
    "plt.ylabel('Score')\n",
    "plt.xlabel('Min samples split')\n",
    "plt.title('Decision Tree regressor')\n",
    "plt.show()"
   ]
  },
  {
   "cell_type": "code",
   "execution_count": 0,
   "metadata": {
    "colab": {
     "base_uri": "https://localhost:8080/",
     "height": 295
    },
    "colab_type": "code",
    "executionInfo": {
     "elapsed": 1441,
     "status": "ok",
     "timestamp": 1583047846645,
     "user": {
      "displayName": "Gauri Gupta",
      "photoUrl": "https://lh3.googleusercontent.com/a-/AOh14GjZ1jKXyGWpnYo5kU18ZNfK1f7x0-Rxorw1w-EPZw=s64",
      "userId": "13281876057161016479"
     },
     "user_tz": -330
    },
    "id": "PGPT_ShT2iFr",
    "outputId": "a84f3cc9-b7b9-4bd1-aec0-c86d685e97ed"
   },
   "outputs": [
    {
     "data": {
      "image/png": "[encoded data removed]",
      "text/plain": [
       "<Figure size 432x288 with 1 Axes>"
      ]
     },
     "metadata": {
      "tags": []
     },
     "output_type": "display_data"
    }
   ],
   "source": [
    "#vary max samples leaf\n",
    "samples = np.linspace(0.01, 0.1, 10, endpoint=True)\n",
    "train_results = []\n",
    "test_results = []\n",
    "for i in samples:\n",
    "  dt = DecisionTreeRegressor(min_samples_leaf=i)\n",
    "  dt.fit(X_train, y_train)\n",
    "    # train_pred = dt.predict(X_train)\n",
    "    \n",
    "    # Add R^2 score to previous train results\n",
    "  score = dt.score(X_train, y_train)\n",
    "  train_results.append(score)\n",
    "#     print(score)\n",
    "    # y_pred = dt.predict(X_test)\n",
    "    # Add R^2 score to previous test results\n",
    "  score = dt.score(X_test, y_test)\n",
    "  test_results.append(score)\n",
    "#     print(score)\n",
    "from matplotlib.legend_handler import HandlerLine2D\n",
    "line1 = plt.plot(samples, train_results, 'b', label='Train Score')\n",
    "line2 = plt.plot(samples, test_results, 'r', label='Test Score')\n",
    "plt.legend()\n",
    "plt.ylabel('Score')\n",
    "plt.xlabel('Min samples leaf')\n",
    "plt.title('Decision Tree regressor')\n",
    "plt.show()"
   ]
  },
  {
   "cell_type": "code",
   "execution_count": 0,
   "metadata": {
    "colab": {},
    "colab_type": "code",
    "id": "HagLG6NX9czS"
   },
   "outputs": [],
   "source": [
    "dt = DecisionTreeRegressor(random_state=42)\n",
    "path = dt.cost_complexity_pruning_path(X_train, y_train)\n",
    "ccp_alphas, impurities = path.ccp_alphas, path.impurities"
   ]
  },
  {
   "cell_type": "code",
   "execution_count": 0,
   "metadata": {
    "colab": {
     "base_uri": "https://localhost:8080/",
     "height": 313
    },
    "colab_type": "code",
    "executionInfo": {
     "elapsed": 1565,
     "status": "ok",
     "timestamp": 1583043668782,
     "user": {
      "displayName": "Gauri Gupta",
      "photoUrl": "https://lh3.googleusercontent.com/a-/AOh14GjZ1jKXyGWpnYo5kU18ZNfK1f7x0-Rxorw1w-EPZw=s64",
      "userId": "13281876057161016479"
     },
     "user_tz": -330
    },
    "id": "OV-xpjS59czV",
    "outputId": "18ec4d85-6dd4-4b04-b265-09d3524a6443"
   },
   "outputs": [
    {
     "data": {
      "text/plain": [
       "Text(0.5, 1.0, 'Total Impurity vs effective alpha for training set')"
      ]
     },
     "execution_count": 39,
     "metadata": {
      "tags": []
     },
     "output_type": "execute_result"
    },
    {
     "data": {
      "image/png": "[encoded data removed]",
      "text/plain": [
       "<Figure size 432x288 with 1 Axes>"
      ]
     },
     "metadata": {
      "tags": []
     },
     "output_type": "display_data"
    }
   ],
   "source": [
    "#pruning of a dt\n",
    "fig, ax = plt.subplots()\n",
    "ax.plot(ccp_alphas[:-1], impurities[:-1], marker='o', drawstyle=\"steps-post\")\n",
    "ax.set_xlabel(\"effective alpha\")\n",
    "ax.set_ylabel(\"total impurity of leaves\")\n",
    "ax.set_title(\"Total Impurity vs effective alpha for training set\")"
   ]
  },
  {
   "cell_type": "code",
   "execution_count": 0,
   "metadata": {
    "colab": {
     "base_uri": "https://localhost:8080/",
     "height": 35
    },
    "colab_type": "code",
    "executionInfo": {
     "elapsed": 785512,
     "status": "ok",
     "timestamp": 1583044453534,
     "user": {
      "displayName": "Gauri Gupta",
      "photoUrl": "https://lh3.googleusercontent.com/a-/AOh14GjZ1jKXyGWpnYo5kU18ZNfK1f7x0-Rxorw1w-EPZw=s64",
      "userId": "13281876057161016479"
     },
     "user_tz": -330
    },
    "id": "2l883WzP9czY",
    "outputId": "a51d3284-5d61-43ac-9a88-47c73c12aecc"
   },
   "outputs": [
    {
     "name": "stdout",
     "output_type": "stream",
     "text": [
      "Number of nodes in the last tree is: 1 with ccp_alpha: 731.7912228458804\n"
     ]
    }
   ],
   "source": [
    "dtrees = []\n",
    "for i in ccp_alphas:\n",
    "    dt = DecisionTreeRegressor(random_state=0, ccp_alpha=i)\n",
    "    dt.fit(X_train, y_train)\n",
    "    dtrees.append(dt)\n",
    "print(\"Number of nodes in the last tree is: {} with ccp_alpha: {}\".format(dtrees[-1].tree_.node_count, ccp_alphas[-1]))"
   ]
  },
  {
   "cell_type": "code",
   "execution_count": 0,
   "metadata": {
    "colab": {
     "base_uri": "https://localhost:8080/",
     "height": 297
    },
    "colab_type": "code",
    "executionInfo": {
     "elapsed": 784831,
     "status": "ok",
     "timestamp": 1583044453540,
     "user": {
      "displayName": "Gauri Gupta",
      "photoUrl": "https://lh3.googleusercontent.com/a-/AOh14GjZ1jKXyGWpnYo5kU18ZNfK1f7x0-Rxorw1w-EPZw=s64",
      "userId": "13281876057161016479"
     },
     "user_tz": -330
    },
    "id": "B2ejDJyR9czc",
    "outputId": "8fd27829-2c26-4361-e49a-c181c8e52494"
   },
   "outputs": [
    {
     "data": {
      "image/png": "[encoded data removed]",
      "text/plain": [
       "<Figure size 432x288 with 2 Axes>"
      ]
     },
     "metadata": {
      "tags": []
     },
     "output_type": "display_data"
    }
   ],
   "source": [
    "dtrees = dtrees[:-1]\n",
    "ccp_alphas = ccp_alphas[:-1]\n",
    "\n",
    "node_counts = [dt.tree_.node_count for dt in dtrees]\n",
    "depth = [dt.tree_.max_depth for dt in dtrees]\n",
    "fig, ax = plt.subplots(2, 1)\n",
    "ax[0].plot(ccp_alphas, node_counts, marker='o', drawstyle=\"steps-post\")\n",
    "ax[0].set_xlabel(\"alpha\")\n",
    "ax[0].set_ylabel(\"number of nodes\")\n",
    "ax[0].set_title(\"Number of nodes vs alpha\")\n",
    "ax[1].plot(ccp_alphas, depth, marker='o', drawstyle=\"steps-post\")\n",
    "ax[1].set_xlabel(\"alpha\")\n",
    "ax[1].set_ylabel(\"depth of tree\")\n",
    "ax[1].set_title(\"Depth vs alpha\")\n",
    "fig.tight_layout()"
   ]
  },
  {
   "cell_type": "code",
   "execution_count": 0,
   "metadata": {
    "colab": {
     "base_uri": "https://localhost:8080/",
     "height": 295
    },
    "colab_type": "code",
    "executionInfo": {
     "elapsed": 803972,
     "status": "ok",
     "timestamp": 1583044473417,
     "user": {
      "displayName": "Gauri Gupta",
      "photoUrl": "https://lh3.googleusercontent.com/a-/AOh14GjZ1jKXyGWpnYo5kU18ZNfK1f7x0-Rxorw1w-EPZw=s64",
      "userId": "13281876057161016479"
     },
     "user_tz": -330
    },
    "id": "_G3595cn9czg",
    "outputId": "88eeeeed-621b-499d-cb94-c4d73d0ccb3a"
   },
   "outputs": [
    {
     "data": {
      "image/png": "[encoded data removed]",
      "text/plain": [
       "<Figure size 432x288 with 1 Axes>"
      ]
     },
     "metadata": {
      "tags": []
     },
     "output_type": "display_data"
    }
   ],
   "source": [
    "#plot of accuracy vs alpha\n",
    "train_scores = [dt.score(X_train, y_train) for dt in dtrees]\n",
    "test_scores = [dt.score(X_test, y_test) for dt in dtrees]\n",
    "\n",
    "fig, ax = plt.subplots()\n",
    "ax.set_xlabel(\"alpha\")\n",
    "ax.set_ylabel(\"accuracy\")\n",
    "ax.set_title(\"Accuracy vs alpha for training and testing sets\")\n",
    "ax.plot(ccp_alphas, train_scores, marker='o', label=\"train\",\n",
    "        drawstyle=\"steps-post\")\n",
    "ax.plot(ccp_alphas, test_scores, marker='o', label=\"test\",\n",
    "        drawstyle=\"steps-post\")\n",
    "ax.legend()\n",
    "plt.show()"
   ]
  },
  {
   "cell_type": "code",
   "execution_count": 0,
   "metadata": {
    "colab": {},
    "colab_type": "code",
    "id": "jgYESdLE9czk"
   },
   "outputs": [],
   "source": [
    "from sklearn.model_selection import GridSearchCV"
   ]
  },
  {
   "cell_type": "code",
   "execution_count": 0,
   "metadata": {
    "colab": {
     "base_uri": "https://localhost:8080/",
     "height": 55
    },
    "colab_type": "code",
    "executionInfo": {
     "elapsed": 7775,
     "status": "ok",
     "timestamp": 1583047669356,
     "user": {
      "displayName": "Gauri Gupta",
      "photoUrl": "https://lh3.googleusercontent.com/a-/AOh14GjZ1jKXyGWpnYo5kU18ZNfK1f7x0-Rxorw1w-EPZw=s64",
      "userId": "13281876057161016479"
     },
     "user_tz": -330
    },
    "id": "g-AGybKvGK8F",
    "outputId": "a0cb7964-a8df-482a-b243-19a1382d71cb"
   },
   "outputs": [
    {
     "name": "stdout",
     "output_type": "stream",
     "text": [
      "Best parameters : {'max_depth': 30, 'max_features': 0.8, 'min_samples_leaf': 1, 'min_samples_split': 4}\n"
     ]
    }
   ],
   "source": [
    "#finding the best fit model\n",
    "hyper_params = { 'max_depth': [5, 10, 20, 30, 50, 75], 'min_samples_split' : [2, 4, 6, 8], 'min_samples_leaf' : [0.5, 0.75, 1], 'max_features': [0.5, 0.7, 0.8, 1]}\n",
    "\n",
    "gsc_dt= GridSearchCV(estimator=DecisionTreeRegressor(),\n",
    "                     param_grid = hyper_params, \n",
    "                     cv = 3,\n",
    "                     scoring='r2',\n",
    "                     verbose = 0,\n",
    "                     n_jobs=-1)\n",
    "gsc_dt.fit(X_train, y_train)\n",
    "print('Best parameters :', gsc_dt.best_params_)\n"
   ]
  },
  {
   "cell_type": "code",
   "execution_count": 0,
   "metadata": {
    "colab": {
     "base_uri": "https://localhost:8080/",
     "height": 35
    },
    "colab_type": "code",
    "executionInfo": {
     "elapsed": 2392,
     "status": "ok",
     "timestamp": 1583047684220,
     "user": {
      "displayName": "Gauri Gupta",
      "photoUrl": "https://lh3.googleusercontent.com/a-/AOh14GjZ1jKXyGWpnYo5kU18ZNfK1f7x0-Rxorw1w-EPZw=s64",
      "userId": "13281876057161016479"
     },
     "user_tz": -330
    },
    "id": "UvQ9VYJR9j-g",
    "outputId": "53a3b3c1-68d9-4de6-a12a-2d6fff068e98"
   },
   "outputs": [
    {
     "name": "stdout",
     "output_type": "stream",
     "text": [
      "Score : 0.9033858348878124\n"
     ]
    }
   ],
   "source": [
    "\n",
    "dt = DecisionTreeRegressor(max_depth = gsc_dt.best_params_['max_depth'], min_samples_split = gsc_dt.best_params_['min_samples_split'], min_samples_leaf = gsc_dt.best_params_['min_samples_leaf'], max_features = gsc_dt.best_params_['max_features'])\n",
    "dt.fit(X_train, y_train)\n",
    "print('Score :', dt.score(X_test, y_test))"
   ]
  },
  {
   "cell_type": "markdown",
   "metadata": {
    "colab_type": "text",
    "id": "owdTw5z95Kz1"
   },
   "source": [
    "# **Random Forest Regressor**"
   ]
  },
  {
   "cell_type": "code",
   "execution_count": 0,
   "metadata": {
    "colab": {
     "base_uri": "https://localhost:8080/",
     "height": 139
    },
    "colab_type": "code",
    "executionInfo": {
     "elapsed": 1440,
     "status": "ok",
     "timestamp": 1583044860875,
     "user": {
      "displayName": "Gauri Gupta",
      "photoUrl": "https://lh3.googleusercontent.com/a-/AOh14GjZ1jKXyGWpnYo5kU18ZNfK1f7x0-Rxorw1w-EPZw=s64",
      "userId": "13281876057161016479"
     },
     "user_tz": -330
    },
    "id": "Df6QX7Z49czn",
    "outputId": "4618ec6a-f1e8-43b3-ea4f-387b4e314ada"
   },
   "outputs": [
    {
     "data": {
      "text/plain": [
       "RandomForestRegressor(bootstrap=True, ccp_alpha=0.0, criterion='mse',\n",
       "                      max_depth=None, max_features='auto', max_leaf_nodes=None,\n",
       "                      max_samples=None, min_impurity_decrease=0.0,\n",
       "                      min_impurity_split=None, min_samples_leaf=1,\n",
       "                      min_samples_split=2, min_weight_fraction_leaf=0.0,\n",
       "                      n_estimators=10, n_jobs=None, oob_score=False,\n",
       "                      random_state=42, verbose=0, warm_start=False)"
      ]
     },
     "execution_count": 47,
     "metadata": {
      "tags": []
     },
     "output_type": "execute_result"
    }
   ],
   "source": [
    "forest_model = RandomForestRegressor(n_estimators = 10, random_state=42)\n",
    "forest_model.fit(X_train, y_train)\n"
   ]
  },
  {
   "cell_type": "code",
   "execution_count": 0,
   "metadata": {
    "colab": {},
    "colab_type": "code",
    "id": "Hh1AHwfC9czq"
   },
   "outputs": [],
   "source": [
    "flightdelay_pred= forest_model.predict(X_test)\n"
   ]
  },
  {
   "cell_type": "code",
   "execution_count": 0,
   "metadata": {
    "colab": {
     "base_uri": "https://localhost:8080/",
     "height": 202
    },
    "colab_type": "code",
    "executionInfo": {
     "elapsed": 1015,
     "status": "ok",
     "timestamp": 1583044862967,
     "user": {
      "displayName": "Gauri Gupta",
      "photoUrl": "https://lh3.googleusercontent.com/a-/AOh14GjZ1jKXyGWpnYo5kU18ZNfK1f7x0-Rxorw1w-EPZw=s64",
      "userId": "13281876057161016479"
     },
     "user_tz": -330
    },
    "id": "p_oP6n8a9czu",
    "outputId": "07cf05a3-4751-445f-fe15-dbe42c0189e5"
   },
   "outputs": [
    {
     "data": {
      "text/html": [
       "<div>\n",
       "<style scoped>\n",
       "    .dataframe tbody tr th:only-of-type {\n",
       "        vertical-align: middle;\n",
       "    }\n",
       "\n",
       "    .dataframe tbody tr th {\n",
       "        vertical-align: top;\n",
       "    }\n",
       "\n",
       "    .dataframe thead th {\n",
       "        text-align: right;\n",
       "    }\n",
       "</style>\n",
       "<table border=\"1\" class=\"dataframe\">\n",
       "  <thead>\n",
       "    <tr style=\"text-align: right;\">\n",
       "      <th></th>\n",
       "      <th>Actual</th>\n",
       "      <th>Predicted</th>\n",
       "    </tr>\n",
       "  </thead>\n",
       "  <tbody>\n",
       "    <tr>\n",
       "      <th>0</th>\n",
       "      <td>-1.0</td>\n",
       "      <td>-3.0</td>\n",
       "    </tr>\n",
       "    <tr>\n",
       "      <th>1</th>\n",
       "      <td>-16.0</td>\n",
       "      <td>-11.0</td>\n",
       "    </tr>\n",
       "    <tr>\n",
       "      <th>2</th>\n",
       "      <td>-12.0</td>\n",
       "      <td>-12.0</td>\n",
       "    </tr>\n",
       "    <tr>\n",
       "      <th>3</th>\n",
       "      <td>9.0</td>\n",
       "      <td>-7.0</td>\n",
       "    </tr>\n",
       "    <tr>\n",
       "      <th>4</th>\n",
       "      <td>6.0</td>\n",
       "      <td>-11.0</td>\n",
       "    </tr>\n",
       "  </tbody>\n",
       "</table>\n",
       "</div>"
      ],
      "text/plain": [
       "   Actual  Predicted\n",
       "0    -1.0       -3.0\n",
       "1   -16.0      -11.0\n",
       "2   -12.0      -12.0\n",
       "3     9.0       -7.0\n",
       "4     6.0      -11.0"
      ]
     },
     "execution_count": 49,
     "metadata": {
      "tags": []
     },
     "output_type": "execute_result"
    }
   ],
   "source": [
    "df_pred=pd.DataFrame({'Actual':y_test, 'Predicted':y_pred})\n",
    "df_pred.head()"
   ]
  },
  {
   "cell_type": "code",
   "execution_count": 0,
   "metadata": {
    "colab": {
     "base_uri": "https://localhost:8080/",
     "height": 69
    },
    "colab_type": "code",
    "executionInfo": {
     "elapsed": 1119,
     "status": "ok",
     "timestamp": 1583044863501,
     "user": {
      "displayName": "Gauri Gupta",
      "photoUrl": "https://lh3.googleusercontent.com/a-/AOh14GjZ1jKXyGWpnYo5kU18ZNfK1f7x0-Rxorw1w-EPZw=s64",
      "userId": "13281876057161016479"
     },
     "user_tz": -330
    },
    "id": "7GzzCQ1E9cz0",
    "outputId": "a5f618a9-f9df-4288-8385-2788b92b852e"
   },
   "outputs": [
    {
     "name": "stdout",
     "output_type": "stream",
     "text": [
      "Mean Absolute Error: 6.700857142857143\n",
      "Mean Squared Error: 111.96314285714286\n",
      "Root Mean Squared Error: 10.581263764652258\n"
     ]
    }
   ],
   "source": [
    "from sklearn import metrics\n",
    "print('Mean Absolute Error:', metrics.mean_absolute_error(y_test, y_pred))\n",
    "print('Mean Squared Error:', metrics.mean_squared_error(y_test, y_pred))\n",
    "print('Root Mean Squared Error:', np.sqrt(metrics.mean_squared_error(y_test, y_pred)))"
   ]
  },
  {
   "cell_type": "code",
   "execution_count": 0,
   "metadata": {
    "colab": {
     "base_uri": "https://localhost:8080/",
     "height": 87
    },
    "colab_type": "code",
    "executionInfo": {
     "elapsed": 1131,
     "status": "ok",
     "timestamp": 1583044864001,
     "user": {
      "displayName": "Gauri Gupta",
      "photoUrl": "https://lh3.googleusercontent.com/a-/AOh14GjZ1jKXyGWpnYo5kU18ZNfK1f7x0-Rxorw1w-EPZw=s64",
      "userId": "13281876057161016479"
     },
     "user_tz": -330
    },
    "id": "6OBqfw8_9cz6",
    "outputId": "ad862a2b-deee-4eb7-cef4-63e7e5c522e6"
   },
   "outputs": [
    {
     "name": "stdout",
     "output_type": "stream",
     "text": [
      "----------------- TRAINING ------------------------\n",
      "r-squared score:  0.9881503644760703\n",
      "------------------- TEST --------------------------\n",
      "r-squared score:  0.9609853355990065\n"
     ]
    }
   ],
   "source": [
    "print(\"----------------- TRAINING ------------------------\")\n",
    "print(\"r-squared score: \",forest_model.score(X_train, y_train))\n",
    "print(\"------------------- TEST --------------------------\")\n",
    "print(\"r-squared score: \", forest_model.score(X_test, y_test))"
   ]
  },
  {
   "cell_type": "code",
   "execution_count": 0,
   "metadata": {
    "colab": {
     "base_uri": "https://localhost:8080/",
     "height": 295
    },
    "colab_type": "code",
    "executionInfo": {
     "elapsed": 4809,
     "status": "ok",
     "timestamp": 1583044868179,
     "user": {
      "displayName": "Gauri Gupta",
      "photoUrl": "https://lh3.googleusercontent.com/a-/AOh14GjZ1jKXyGWpnYo5kU18ZNfK1f7x0-Rxorw1w-EPZw=s64",
      "userId": "13281876057161016479"
     },
     "user_tz": -330
    },
    "id": "DvMOvf2X9cz9",
    "outputId": "b061b88a-c4da-4d79-a9d5-e7e4915130cb"
   },
   "outputs": [
    {
     "data": {
      "image/png": "[encoded data removed]",
      "text/plain": [
       "<Figure size 432x288 with 1 Axes>"
      ]
     },
     "metadata": {
      "tags": []
     },
     "output_type": "display_data"
    }
   ],
   "source": [
    "#vary numer of decision trees\n",
    "n_trees = np.linspace(1, 10, 10, endpoint=True)\n",
    "train_results = []\n",
    "test_results = []\n",
    "for i in n_trees:\n",
    "    rf = RandomForestRegressor(n_estimators = int(i), random_state=42)\n",
    "    rf.fit(X_train, y_train)\n",
    "#     train_pred = rf.predict(X_train)   \n",
    "    # Add R^2 score to previous train results\n",
    "    score = rf.score(X_train, y_train)\n",
    "#     print(score)\n",
    "    train_results.append(score)  \n",
    "#     y_pred = rf.predict(X_test)\n",
    "    # Add R^2 score to previous test results\n",
    "    score = rf.score(X_test, y_test)\n",
    "#     print(score)\n",
    "    test_results.append(score)\n",
    "    \n",
    "from matplotlib.legend_handler import HandlerLine2D\n",
    "line1 = plt.plot(n_trees, train_results, 'b', label='Train Score')\n",
    "line2 = plt.plot(n_trees, test_results, 'r', label='Test Score')\n",
    "plt.legend()\n",
    "plt.ylabel('Score')\n",
    "plt.xlabel('Number of decision trees')\n",
    "plt.title('Random Forest Regressor')\n",
    "plt.show()"
   ]
  },
  {
   "cell_type": "code",
   "execution_count": 0,
   "metadata": {
    "colab": {
     "base_uri": "https://localhost:8080/",
     "height": 295
    },
    "colab_type": "code",
    "executionInfo": {
     "elapsed": 40179,
     "status": "ok",
     "timestamp": 1583047997516,
     "user": {
      "displayName": "Gauri Gupta",
      "photoUrl": "https://lh3.googleusercontent.com/a-/AOh14GjZ1jKXyGWpnYo5kU18ZNfK1f7x0-Rxorw1w-EPZw=s64",
      "userId": "13281876057161016479"
     },
     "user_tz": -330
    },
    "id": "3KXQnqV5HnIV",
    "outputId": "d3689106-3432-4e7d-a5cf-5a56d4f52f6b"
   },
   "outputs": [
    {
     "data": {
      "image/png": "[encoded data removed]",
      "text/plain": [
       "<Figure size 432x288 with 1 Axes>"
      ]
     },
     "metadata": {
      "tags": []
     },
     "output_type": "display_data"
    }
   ],
   "source": [
    "#vary min samples split\n",
    "min_samples_splits = np.linspace(2, 10, 9, endpoint=True)\n",
    "train_results = []\n",
    "test_results = []\n",
    "for min_samples_split in min_samples_splits:\n",
    "  rf = RandomForestRegressor(min_samples_split=int(min_samples_split))\n",
    "  rf.fit(X_train, y_train)\n",
    "#     train_pred = rf.predict(X_train)\n",
    "    \n",
    "  # Add R^2 score to previous train results\n",
    "  score = rf.score(X_train, y_train)\n",
    "#     print(score)\n",
    "  train_results.append(score)\n",
    "    \n",
    "#     y_pred = rf.predict(X_test)\n",
    "    # Add R^2 score to previous test results\n",
    "  score = rf.score(X_test, y_test)\n",
    "#     print(score)\n",
    "  test_results.append(score)\n",
    "from matplotlib.legend_handler import HandlerLine2D\n",
    "line1, = plt.plot(min_samples_splits, train_results, 'b', label='Train Score')\n",
    "line2, = plt.plot(min_samples_splits, test_results, 'r', label='Test Score')\n",
    "# plt.legend(handler_map={line1: HandlerLine2D(numpoints=2)})\n",
    "plt.legend()\n",
    "plt.ylabel('Score')\n",
    "plt.xlabel('Min samples split')\n",
    "plt.title('Random Forest Regressor')\n",
    "plt.show()\n"
   ]
  },
  {
   "cell_type": "code",
   "execution_count": 0,
   "metadata": {
    "colab": {
     "base_uri": "https://localhost:8080/",
     "height": 295
    },
    "colab_type": "code",
    "executionInfo": {
     "elapsed": 14641,
     "status": "ok",
     "timestamp": 1583048012207,
     "user": {
      "displayName": "Gauri Gupta",
      "photoUrl": "https://lh3.googleusercontent.com/a-/AOh14GjZ1jKXyGWpnYo5kU18ZNfK1f7x0-Rxorw1w-EPZw=s64",
      "userId": "13281876057161016479"
     },
     "user_tz": -330
    },
    "id": "PFUSc3ArHnbZ",
    "outputId": "36e27069-fac2-4720-ba43-b374175fab46"
   },
   "outputs": [
    {
     "data": {
      "image/png": "[encoded data removed]",
      "text/plain": [
       "<Figure size 432x288 with 1 Axes>"
      ]
     },
     "metadata": {
      "tags": []
     },
     "output_type": "display_data"
    }
   ],
   "source": [
    "#vary min samples leaf\n",
    "min_samples_leafs = np.linspace(0.01, 0.1, 10, endpoint=True)\n",
    "train_results = []\n",
    "test_results = []\n",
    "for min_samples_leaf in min_samples_leafs:\n",
    "  rf = RandomForestRegressor(min_samples_leaf=min_samples_leaf)\n",
    "  rf.fit(X_train, y_train)\n",
    "#     train_pred = rf.predict(X_train)\n",
    "    \n",
    "  # Add R^2 score to previous train results\n",
    "  score = rf.score(X_train, y_train)\n",
    "#     print(score)\n",
    "  train_results.append(score)\n",
    "    \n",
    "#     y_pred = rf.predict(X_test)\n",
    "    # Add R^2 score to previous test results\n",
    "  score = rf.score(X_test, y_test)\n",
    "#     print(score)\n",
    "  test_results.append(score)\n",
    "from matplotlib.legend_handler import HandlerLine2D\n",
    "line1, = plt.plot(min_samples_leafs, train_results, 'b', label='Train Score')\n",
    "line2, = plt.plot(min_samples_leafs, test_results, 'r', label='Test Score')\n",
    "# plt.legend(handler_map={line1: HandlerLine2D(numpoints=2)})\n",
    "plt.legend()\n",
    "plt.ylabel('Score')\n",
    "plt.xlabel('Min samples leaf')\n",
    "plt.title('Random Forest Regressor')\n",
    "plt.show()"
   ]
  },
  {
   "cell_type": "code",
   "execution_count": 0,
   "metadata": {
    "colab": {
     "base_uri": "https://localhost:8080/",
     "height": 295
    },
    "colab_type": "code",
    "executionInfo": {
     "elapsed": 62420,
     "status": "ok",
     "timestamp": 1583044927742,
     "user": {
      "displayName": "Gauri Gupta",
      "photoUrl": "https://lh3.googleusercontent.com/a-/AOh14GjZ1jKXyGWpnYo5kU18ZNfK1f7x0-Rxorw1w-EPZw=s64",
      "userId": "13281876057161016479"
     },
     "user_tz": -330
    },
    "id": "5FM2FI29Hnne",
    "outputId": "4880877a-3710-414b-ad18-415652848c81"
   },
   "outputs": [
    {
     "data": {
      "image/png": "[encoded data removed]",
      "text/plain": [
       "<Figure size 432x288 with 1 Axes>"
      ]
     },
     "metadata": {
      "tags": []
     },
     "output_type": "display_data"
    }
   ],
   "source": [
    "# vary max features\n",
    "max_features = list(range(1,X_train.shape[1]))\n",
    "train_results = []\n",
    "test_results = []\n",
    "for max_feature in max_features:\n",
    "  rf = RandomForestRegressor(max_features=max_feature)\n",
    "  rf.fit(X_train, y_train)\n",
    "  # Add R^2 score to previous train results\n",
    "  score = rf.score(X_train, y_train)\n",
    "  train_results.append(score)\n",
    "    # Add R^2 score to previous test results\n",
    "  score = rf.score(X_test, y_test)\n",
    "  test_results.append(score)\n",
    "from matplotlib.legend_handler import HandlerLine2D\n",
    "line1, = plt.plot(max_features, train_results, 'b', label='Train Score')\n",
    "line2, = plt.plot(max_features, test_results, 'r', label='Test Score')\n",
    "# plt.legend(handler_map={line1: HandlerLine2D(numpoints=2)})\n",
    "plt.legend()\n",
    "plt.ylabel('Score')\n",
    "plt.xlabel('Max features')\n",
    "plt.title('Random Forest Regressor')\n",
    "plt.show()"
   ]
  },
  {
   "cell_type": "code",
   "execution_count": 0,
   "metadata": {
    "colab": {
     "base_uri": "https://localhost:8080/",
     "height": 35
    },
    "colab_type": "code",
    "executionInfo": {
     "elapsed": 116553,
     "status": "ok",
     "timestamp": 1583048210228,
     "user": {
      "displayName": "Gauri Gupta",
      "photoUrl": "https://lh3.googleusercontent.com/a-/AOh14GjZ1jKXyGWpnYo5kU18ZNfK1f7x0-Rxorw1w-EPZw=s64",
      "userId": "13281876057161016479"
     },
     "user_tz": -330
    },
    "id": "k4ejbRmyvqRX",
    "outputId": "5a67a5af-75bf-4e7a-8749-ce4463ab97de"
   },
   "outputs": [
    {
     "name": "stdout",
     "output_type": "stream",
     "text": [
      "{'max_features': 0.8, 'min_samples_leaf': 0.01, 'min_samples_split': 8, 'n_estimators': 20}\n"
     ]
    }
   ],
   "source": [
    "#finding best fit model\n",
    "hyper_params = { 'n_estimators': [5, 10, 20, 50, 75], 'min_samples_split' : [2, 5, 8, 12], 'min_samples_leaf' : [0.01, 0.05, 0.1, 0.2], 'max_features': [0.5, 0.7, 0.8, 1]}\n",
    "\n",
    "gsc_dt= GridSearchCV(estimator=RandomForestRegressor(),\n",
    "                     param_grid = hyper_params, \n",
    "                     cv = 3,\n",
    "                     scoring='r2',\n",
    "                     verbose = 0,\n",
    "                     n_jobs=-1)\n",
    "gsc_dt.fit(X_train, y_train)\n",
    "print(gsc_dt.best_params_)"
   ]
  },
  {
   "cell_type": "code",
   "execution_count": 0,
   "metadata": {
    "colab": {
     "base_uri": "https://localhost:8080/",
     "height": 35
    },
    "colab_type": "code",
    "executionInfo": {
     "elapsed": 1073,
     "status": "ok",
     "timestamp": 1583048436668,
     "user": {
      "displayName": "Gauri Gupta",
      "photoUrl": "https://lh3.googleusercontent.com/a-/AOh14GjZ1jKXyGWpnYo5kU18ZNfK1f7x0-Rxorw1w-EPZw=s64",
      "userId": "13281876057161016479"
     },
     "user_tz": -330
    },
    "id": "ephS7yQlBVvI",
    "outputId": "4168a1bc-efe9-482d-b5db-5cf0a1634de1"
   },
   "outputs": [
    {
     "name": "stdout",
     "output_type": "stream",
     "text": [
      "Score : 0.8798303644467997\n"
     ]
    }
   ],
   "source": [
    "#predicting accuracy of the best fit model\n",
    "rf = RandomForestRegressor(n_estimators = gsc_dt.best_params_['n_estimators'], min_samples_split = gsc_dt.best_params_['min_samples_split'], min_samples_leaf = gsc_dt.best_params_['min_samples_leaf'], max_features = gsc_dt.best_params_['max_features'])\n",
    "rf.fit(X_train, y_train)\n",
    "print('Score :', rf.score(X_test, y_test))"
   ]
  },
  {
   "cell_type": "markdown",
   "metadata": {
    "colab_type": "text",
    "id": "aB1VJDRR5Tdn"
   },
   "source": [
    "# **Bagging regressor**"
   ]
  },
  {
   "cell_type": "code",
   "execution_count": 0,
   "metadata": {
    "colab": {},
    "colab_type": "code",
    "id": "urboMYox9c0A"
   },
   "outputs": [],
   "source": [
    "from sklearn.ensemble import BaggingRegressor"
   ]
  },
  {
   "cell_type": "code",
   "execution_count": 0,
   "metadata": {
    "colab": {
     "base_uri": "https://localhost:8080/",
     "height": 35
    },
    "colab_type": "code",
    "executionInfo": {
     "elapsed": 1393,
     "status": "ok",
     "timestamp": 1583045032380,
     "user": {
      "displayName": "Gauri Gupta",
      "photoUrl": "https://lh3.googleusercontent.com/a-/AOh14GjZ1jKXyGWpnYo5kU18ZNfK1f7x0-Rxorw1w-EPZw=s64",
      "userId": "13281876057161016479"
     },
     "user_tz": -330
    },
    "id": "59xpVr2A9c0E",
    "outputId": "49ea69cc-5ecd-471a-ab2d-e0e336fb3068"
   },
   "outputs": [
    {
     "name": "stdout",
     "output_type": "stream",
     "text": [
      "0.9417064941909946\n"
     ]
    }
   ],
   "source": [
    "\n",
    "ensemble = BaggingRegressor(base_estimator = DecisionTreeRegressor(), max_features = 12)\n",
    "ensemble.fit(X_train, y_train)\n",
    "y_pred = ensemble.predict(X_test)\n",
    "print(ensemble.score(X_test, y_test))\n"
   ]
  },
  {
   "cell_type": "code",
   "execution_count": 0,
   "metadata": {
    "colab": {
     "base_uri": "https://localhost:8080/",
     "height": 202
    },
    "colab_type": "code",
    "executionInfo": {
     "elapsed": 1077,
     "status": "ok",
     "timestamp": 1583045032382,
     "user": {
      "displayName": "Gauri Gupta",
      "photoUrl": "https://lh3.googleusercontent.com/a-/AOh14GjZ1jKXyGWpnYo5kU18ZNfK1f7x0-Rxorw1w-EPZw=s64",
      "userId": "13281876057161016479"
     },
     "user_tz": -330
    },
    "id": "-6mvRbPv9c0H",
    "outputId": "b2e6ea1f-b808-4d54-be88-882742547994"
   },
   "outputs": [
    {
     "data": {
      "text/html": [
       "<div>\n",
       "<style scoped>\n",
       "    .dataframe tbody tr th:only-of-type {\n",
       "        vertical-align: middle;\n",
       "    }\n",
       "\n",
       "    .dataframe tbody tr th {\n",
       "        vertical-align: top;\n",
       "    }\n",
       "\n",
       "    .dataframe thead th {\n",
       "        text-align: right;\n",
       "    }\n",
       "</style>\n",
       "<table border=\"1\" class=\"dataframe\">\n",
       "  <thead>\n",
       "    <tr style=\"text-align: right;\">\n",
       "      <th></th>\n",
       "      <th>Actual</th>\n",
       "      <th>Predicted</th>\n",
       "    </tr>\n",
       "  </thead>\n",
       "  <tbody>\n",
       "    <tr>\n",
       "      <th>0</th>\n",
       "      <td>-1.0</td>\n",
       "      <td>-1.3</td>\n",
       "    </tr>\n",
       "    <tr>\n",
       "      <th>1</th>\n",
       "      <td>-16.0</td>\n",
       "      <td>-12.0</td>\n",
       "    </tr>\n",
       "    <tr>\n",
       "      <th>2</th>\n",
       "      <td>-12.0</td>\n",
       "      <td>-7.3</td>\n",
       "    </tr>\n",
       "    <tr>\n",
       "      <th>3</th>\n",
       "      <td>9.0</td>\n",
       "      <td>-3.6</td>\n",
       "    </tr>\n",
       "    <tr>\n",
       "      <th>4</th>\n",
       "      <td>6.0</td>\n",
       "      <td>-5.1</td>\n",
       "    </tr>\n",
       "  </tbody>\n",
       "</table>\n",
       "</div>"
      ],
      "text/plain": [
       "   Actual  Predicted\n",
       "0    -1.0       -1.3\n",
       "1   -16.0      -12.0\n",
       "2   -12.0       -7.3\n",
       "3     9.0       -3.6\n",
       "4     6.0       -5.1"
      ]
     },
     "execution_count": 60,
     "metadata": {
      "tags": []
     },
     "output_type": "execute_result"
    }
   ],
   "source": [
    "df_pred=pd.DataFrame({'Actual':y_test, 'Predicted':y_pred})\n",
    "df_pred.head()"
   ]
  },
  {
   "cell_type": "code",
   "execution_count": 0,
   "metadata": {
    "colab": {
     "base_uri": "https://localhost:8080/",
     "height": 69
    },
    "colab_type": "code",
    "executionInfo": {
     "elapsed": 1047,
     "status": "ok",
     "timestamp": 1583045033235,
     "user": {
      "displayName": "Gauri Gupta",
      "photoUrl": "https://lh3.googleusercontent.com/a-/AOh14GjZ1jKXyGWpnYo5kU18ZNfK1f7x0-Rxorw1w-EPZw=s64",
      "userId": "13281876057161016479"
     },
     "user_tz": -330
    },
    "id": "cCzLYx449c0K",
    "outputId": "390fbb51-84ba-46e2-975d-6fb384ea191e"
   },
   "outputs": [
    {
     "name": "stdout",
     "output_type": "stream",
     "text": [
      "Mean Absolute Error: 6.348628571428572\n",
      "Mean Squared Error: 78.36355142857144\n",
      "Root Mean Squared Error: 8.852318985925182\n"
     ]
    }
   ],
   "source": [
    "from sklearn import metrics\n",
    "print('Mean Absolute Error:', metrics.mean_absolute_error(y_test, y_pred))\n",
    "print('Mean Squared Error:', metrics.mean_squared_error(y_test, y_pred))\n",
    "print('Root Mean Squared Error:', np.sqrt(metrics.mean_squared_error(y_test, y_pred)))"
   ]
  },
  {
   "cell_type": "code",
   "execution_count": 0,
   "metadata": {
    "colab": {
     "base_uri": "https://localhost:8080/",
     "height": 87
    },
    "colab_type": "code",
    "executionInfo": {
     "elapsed": 713,
     "status": "ok",
     "timestamp": 1583045033752,
     "user": {
      "displayName": "Gauri Gupta",
      "photoUrl": "https://lh3.googleusercontent.com/a-/AOh14GjZ1jKXyGWpnYo5kU18ZNfK1f7x0-Rxorw1w-EPZw=s64",
      "userId": "13281876057161016479"
     },
     "user_tz": -330
    },
    "id": "z8uq9p-x9c0N",
    "outputId": "2ae9f411-dede-49e6-9f20-562fec86c14b"
   },
   "outputs": [
    {
     "name": "stdout",
     "output_type": "stream",
     "text": [
      "----------------- TRAINING ------------------------\n",
      "r-squared score:  0.9852904556149269\n",
      "------------------- TEST --------------------------\n",
      "r-squared score:  0.9417064941909946\n"
     ]
    }
   ],
   "source": [
    "# from sklearn.model_selection import cross_val_score\n",
    "# print(ensemble.score(X_test, y_train))\n",
    "print(\"----------------- TRAINING ------------------------\")\n",
    "print(\"r-squared score: \", ensemble.score(X_train, y_train))\n",
    "print(\"------------------- TEST --------------------------\")\n",
    "print(\"r-squared score: \", ensemble.score(X_test, y_test))\n",
    "#score = cross_val_score(regressor, X_test, y_test)\n",
    "# score = regr_1.score(X_test, y_test)\n",
    "# print(\"Score\")\n",
    "# print(score)\n"
   ]
  },
  {
   "cell_type": "code",
   "execution_count": 0,
   "metadata": {
    "colab": {
     "base_uri": "https://localhost:8080/",
     "height": 295
    },
    "colab_type": "code",
    "executionInfo": {
     "elapsed": 8961,
     "status": "ok",
     "timestamp": 1583045058383,
     "user": {
      "displayName": "Gauri Gupta",
      "photoUrl": "https://lh3.googleusercontent.com/a-/AOh14GjZ1jKXyGWpnYo5kU18ZNfK1f7x0-Rxorw1w-EPZw=s64",
      "userId": "13281876057161016479"
     },
     "user_tz": -330
    },
    "id": "vvjZpWq088Zg",
    "outputId": "1c14b8e6-515c-4576-f8e3-0c1f3d973626"
   },
   "outputs": [
    {
     "data": {
      "image/png": "[encoded data removed]",
      "text/plain": [
       "<Figure size 432x288 with 1 Axes>"
      ]
     },
     "metadata": {
      "tags": []
     },
     "output_type": "display_data"
    }
   ],
   "source": [
    "#grpah of bagging by varying number of estimators\n",
    "numbers = [5, 10, 15, 20, 25, 30, 50]\n",
    "train_results = []\n",
    "test_results = []\n",
    "for i in numbers:\n",
    "  br = BaggingRegressor(n_estimators = i)\n",
    "  br.fit(X_train, y_train)\n",
    "#     train_pred = br.predict(X_train)   \n",
    "    # Add R^2 score to previous train results\n",
    "  score = br.score(X_train, y_train)\n",
    "#     print(score)\n",
    "  train_results.append(score)  \n",
    "#     y_pred = br.predict(X_test)\n",
    "    # Add R^2 score to previous test results\n",
    "  score = br.score(X_test, y_test)\n",
    "#     print(score)\n",
    "  test_results.append(score)\n",
    "    \n",
    "from matplotlib.legend_handler import HandlerLine2D\n",
    "line1 = plt.plot(numbers, train_results, 'b', label='Train Score')\n",
    "line2 = plt.plot(numbers, test_results, 'r', label='Test Score')\n",
    "plt.legend()\n",
    "plt.ylabel('Score')\n",
    "plt.xlabel('Number of estimators')\n",
    "plt.title('Bagging Regressor')\n",
    "plt.show()"
   ]
  },
  {
   "cell_type": "code",
   "execution_count": 0,
   "metadata": {
    "colab": {
     "base_uri": "https://localhost:8080/",
     "height": 295
    },
    "colab_type": "code",
    "executionInfo": {
     "elapsed": 12157,
     "status": "ok",
     "timestamp": 1583045061834,
     "user": {
      "displayName": "Gauri Gupta",
      "photoUrl": "https://lh3.googleusercontent.com/a-/AOh14GjZ1jKXyGWpnYo5kU18ZNfK1f7x0-Rxorw1w-EPZw=s64",
      "userId": "13281876057161016479"
     },
     "user_tz": -330
    },
    "id": "EV5pItld8846",
    "outputId": "8637a15b-2487-48cd-8d3f-67306bf1a352"
   },
   "outputs": [
    {
     "data": {
      "image/png": "[encoded data removed]",
      "text/plain": [
       "<Figure size 432x288 with 1 Axes>"
      ]
     },
     "metadata": {
      "tags": []
     },
     "output_type": "display_data"
    }
   ],
   "source": [
    "#grpah of bagging by varying max samples\n",
    "samples = np.linspace(0.1, 1.0, 10, endpoint=True)\n",
    "train_results = []\n",
    "test_results = []\n",
    "for i in samples:\n",
    "  br = BaggingRegressor(max_samples = i)\n",
    "  br.fit(X_train, y_train)\n",
    "#     train_pred = br.predict(X_train)   \n",
    "    # Add R^2 score to previous train results\n",
    "  score = br.score(X_train, y_train)\n",
    "#     print(score)\n",
    "  train_results.append(score)  \n",
    "#     y_pred = br.predict(X_test)\n",
    "    # Add R^2 score to previous test results\n",
    "  score = br.score(X_test, y_test)\n",
    "#     print(score)\n",
    "  test_results.append(score)\n",
    "    \n",
    "from matplotlib.legend_handler import HandlerLine2D\n",
    "line1 = plt.plot(samples, train_results, 'b', label='Train Score')\n",
    "line2 = plt.plot(samples\n",
    "                 , test_results, 'r', label='Test Score')\n",
    "plt.legend()\n",
    "plt.ylabel('Score')\n",
    "plt.xlabel('Max samples')\n",
    "plt.title('Bagging Regressor')\n",
    "plt.show()"
   ]
  },
  {
   "cell_type": "code",
   "execution_count": 0,
   "metadata": {
    "colab": {
     "base_uri": "https://localhost:8080/",
     "height": 295
    },
    "colab_type": "code",
    "executionInfo": {
     "elapsed": 13549,
     "status": "ok",
     "timestamp": 1583045064750,
     "user": {
      "displayName": "Gauri Gupta",
      "photoUrl": "https://lh3.googleusercontent.com/a-/AOh14GjZ1jKXyGWpnYo5kU18ZNfK1f7x0-Rxorw1w-EPZw=s64",
      "userId": "13281876057161016479"
     },
     "user_tz": -330
    },
    "id": "s5R5ZPFiEj4B",
    "outputId": "8db7e784-130b-406a-eeaa-c4f0ceea2f81"
   },
   "outputs": [
    {
     "data": {
      "image/png": "[encoded data removed]",
      "text/plain": [
       "<Figure size 432x288 with 1 Axes>"
      ]
     },
     "metadata": {
      "tags": []
     },
     "output_type": "display_data"
    }
   ],
   "source": [
    "#grpah of bagging by varying max features\n",
    "features = np.linspace(0.1, 1.0, 10, endpoint=True)\n",
    "train_results = []\n",
    "test_results = []\n",
    "for i in features:\n",
    "  br = BaggingRegressor(max_features = i)\n",
    "  br.fit(X_train, y_train)\n",
    "#     train_pred = br.predict(X_train)   \n",
    "    # Add R^2 score to previous train results\n",
    "  score = br.score(X_train, y_train)\n",
    "#     print(score)\n",
    "  train_results.append(score)  \n",
    "#     y_pred = br.predict(X_test)\n",
    "    # Add R^2 score to previous test results\n",
    "  score = br.score(X_test, y_test)\n",
    "#     print(score)\n",
    "  test_results.append(score)\n",
    "    \n",
    "from matplotlib.legend_handler import HandlerLine2D\n",
    "line1 = plt.plot(features, train_results, 'b', label='Train Score')\n",
    "line2 = plt.plot(features\n",
    "                 , test_results, 'r', label='Test Score')\n",
    "plt.legend()\n",
    "plt.ylabel('Score')\n",
    "plt.xlabel('Max features')\n",
    "plt.title('Bagging Regressor')\n",
    "plt.show()"
   ]
  },
  {
   "cell_type": "code",
   "execution_count": 0,
   "metadata": {
    "colab": {
     "base_uri": "https://localhost:8080/",
     "height": 295
    },
    "colab_type": "code",
    "executionInfo": {
     "elapsed": 13624,
     "status": "ok",
     "timestamp": 1583045068728,
     "user": {
      "displayName": "Gauri Gupta",
      "photoUrl": "https://lh3.googleusercontent.com/a-/AOh14GjZ1jKXyGWpnYo5kU18ZNfK1f7x0-Rxorw1w-EPZw=s64",
      "userId": "13281876057161016479"
     },
     "user_tz": -330
    },
    "id": "5mvn_utNGNh8",
    "outputId": "c21a15a3-56b2-4bed-b02b-8c26c2ff7c2c"
   },
   "outputs": [
    {
     "data": {
      "image/png": "[encoded data removed]",
      "text/plain": [
       "<Figure size 432x288 with 1 Axes>"
      ]
     },
     "metadata": {
      "tags": []
     },
     "output_type": "display_data"
    }
   ],
   "source": [
    "#grpah of bagging by varying bootstrap\n",
    "features = np.linspace(0.1, 1.0, 10, endpoint=True)\n",
    "true_results = []\n",
    "false_results = []\n",
    "for i in features:\n",
    "  br1 = BaggingRegressor(max_features = i, bootstrap = True)\n",
    "  br2 = BaggingRegressor(max_features = i, bootstrap = False)\n",
    "  br1.fit(X_test, y_test)\n",
    "  br2.fit(X_test, y_test)\n",
    "  score1 = br1.score(X_test, y_test)\n",
    "  true_results.append(score1)\n",
    "  score2 = br2.score(X_test, y_test)\n",
    "  false_results.append(score2)\n",
    "    \n",
    "from matplotlib.legend_handler import HandlerLine2D\n",
    "line1 = plt.plot(features, true_results, 'b', label='Bootstrap = True')\n",
    "line2 = plt.plot(features\n",
    "                 , false_results, 'r', label='Bootstrap = False')\n",
    "plt.legend()\n",
    "plt.ylabel('Score')\n",
    "plt.xlabel('Bootstrap')\n",
    "plt.title('Bagging Regressor')\n",
    "plt.show()"
   ]
  },
  {
   "cell_type": "code",
   "execution_count": 0,
   "metadata": {
    "colab": {
     "base_uri": "https://localhost:8080/",
     "height": 35
    },
    "colab_type": "code",
    "executionInfo": {
     "elapsed": 72581,
     "status": "ok",
     "timestamp": 1583048528017,
     "user": {
      "displayName": "Gauri Gupta",
      "photoUrl": "https://lh3.googleusercontent.com/a-/AOh14GjZ1jKXyGWpnYo5kU18ZNfK1f7x0-Rxorw1w-EPZw=s64",
      "userId": "13281876057161016479"
     },
     "user_tz": -330
    },
    "id": "vqEbFJTSIuc_",
    "outputId": "9681931e-7df8-4613-92d5-2ce7c1d48218"
   },
   "outputs": [
    {
     "name": "stdout",
     "output_type": "stream",
     "text": [
      "{'bootstrap': False, 'max_features': 0.75, 'max_samples': 0.75, 'n_estimators': 50}\n"
     ]
    }
   ],
   "source": [
    "#finding best fit model\n",
    "hyper_params = { 'n_estimators': [5, 10, 20, 50, 75], 'max_samples' : [0.2, 0.5, 0.75, 1],  'max_features': [0.5, 0.75, 1], 'bootstrap':[True, False]}\n",
    "\n",
    "gsc_br= GridSearchCV(estimator=BaggingRegressor(),\n",
    "                     param_grid = hyper_params, \n",
    "                     cv = 3,\n",
    "                     scoring='r2',\n",
    "                     verbose = 0,\n",
    "                     n_jobs=-1)\n",
    "gsc_br.fit(X_train, y_train)\n",
    "print(gsc_br.best_params_)"
   ]
  },
  {
   "cell_type": "code",
   "execution_count": 0,
   "metadata": {
    "colab": {
     "base_uri": "https://localhost:8080/",
     "height": 35
    },
    "colab_type": "code",
    "executionInfo": {
     "elapsed": 1662,
     "status": "ok",
     "timestamp": 1583048677846,
     "user": {
      "displayName": "Gauri Gupta",
      "photoUrl": "https://lh3.googleusercontent.com/a-/AOh14GjZ1jKXyGWpnYo5kU18ZNfK1f7x0-Rxorw1w-EPZw=s64",
      "userId": "13281876057161016479"
     },
     "user_tz": -330
    },
    "id": "nqk14VT22Leq",
    "outputId": "44dc2403-bbb9-4a22-ba45-9c63fb0668cf"
   },
   "outputs": [
    {
     "name": "stdout",
     "output_type": "stream",
     "text": [
      "Score : 0.9608026654935791\n"
     ]
    }
   ],
   "source": [
    "rf = RandomForestRegressor(n_estimators = gsc_dt.best_params_['n_estimators'],  max_features = gsc_dt.best_params_['max_features'])\n",
    "rf.fit(X_train, y_train)\n",
    "print('Score :', rf.score(X_test, y_test))"
   ]
  },
  {
   "cell_type": "code",
   "execution_count": 0,
   "metadata": {
    "colab": {},
    "colab_type": "code",
    "id": "LmlcxOqpCE2g"
   },
   "outputs": [],
   "source": []
  },
  {
   "cell_type": "code",
   "execution_count": 0,
   "metadata": {
    "colab": {
     "base_uri": "https://localhost:8080/",
     "height": 35
    },
    "colab_type": "code",
    "executionInfo": {
     "elapsed": 1205,
     "status": "ok",
     "timestamp": 1583137318339,
     "user": {
      "displayName": "Gauri Gupta",
      "photoUrl": "https://lh3.googleusercontent.com/a-/AOh14GjZ1jKXyGWpnYo5kU18ZNfK1f7x0-Rxorw1w-EPZw=s64",
      "userId": "13281876057161016479"
     },
     "user_tz": -330
    },
    "id": "szoW16KpVgrF",
    "outputId": "ab88ef59-bd18-4232-a6d0-b2b13acbf81a"
   },
   "outputs": [
    {
     "name": "stdout",
     "output_type": "stream",
     "text": [
      "r-squared score:  0.948280607057785\n"
     ]
    }
   ],
   "source": [
    "from sklearn.neural_network import MLPRegressor\n",
    "ann = MLPRegressor(tol=1, \n",
    "                   early_stopping=True)\n",
    "ann.fit(X_train, y_train)\n",
    "print(\"r-squared score: \", ann.score(X_test, y_test))"
   ]
  },
  {
   "cell_type": "markdown",
   "metadata": {
    "colab_type": "text",
    "id": "UQZgzPEOIIWQ"
   },
   "source": [
    "# **KNN Regressor**"
   ]
  },
  {
   "cell_type": "code",
   "execution_count": 0,
   "metadata": {
    "colab": {},
    "colab_type": "code",
    "id": "1yAHNJFrIOu7"
   },
   "outputs": [],
   "source": [
    "from sklearn.neighbors import KNeighborsRegressor\n",
    "import matplotlib.pyplot as plt\n",
    "regr_2 = KNeighborsRegressor()\n",
    "regr_2.fit(X_train, y_train)\n",
    "y_pred = regr_2.predict(X_test)"
   ]
  },
  {
   "cell_type": "code",
   "execution_count": 29,
   "metadata": {
    "colab": {
     "base_uri": "https://localhost:8080/",
     "height": 202
    },
    "colab_type": "code",
    "executionInfo": {
     "elapsed": 956,
     "status": "ok",
     "timestamp": 1583150638587,
     "user": {
      "displayName": "Gauri Gupta",
      "photoUrl": "https://lh3.googleusercontent.com/a-/AOh14GjZ1jKXyGWpnYo5kU18ZNfK1f7x0-Rxorw1w-EPZw=s64",
      "userId": "13281876057161016479"
     },
     "user_tz": -330
    },
    "id": "N5pv1HEhIW7G",
    "outputId": "6cfc0720-7bdb-4b4a-9953-b8b23f5745d4"
   },
   "outputs": [
    {
     "data": {
      "text/html": [
       "<div>\n",
       "<style scoped>\n",
       "    .dataframe tbody tr th:only-of-type {\n",
       "        vertical-align: middle;\n",
       "    }\n",
       "\n",
       "    .dataframe tbody tr th {\n",
       "        vertical-align: top;\n",
       "    }\n",
       "\n",
       "    .dataframe thead th {\n",
       "        text-align: right;\n",
       "    }\n",
       "</style>\n",
       "<table border=\"1\" class=\"dataframe\">\n",
       "  <thead>\n",
       "    <tr style=\"text-align: right;\">\n",
       "      <th></th>\n",
       "      <th>Actual</th>\n",
       "      <th>Predicted</th>\n",
       "    </tr>\n",
       "  </thead>\n",
       "  <tbody>\n",
       "    <tr>\n",
       "      <th>0</th>\n",
       "      <td>32.0</td>\n",
       "      <td>36.8</td>\n",
       "    </tr>\n",
       "    <tr>\n",
       "      <th>1</th>\n",
       "      <td>12.0</td>\n",
       "      <td>-4.0</td>\n",
       "    </tr>\n",
       "    <tr>\n",
       "      <th>2</th>\n",
       "      <td>0.0</td>\n",
       "      <td>-1.0</td>\n",
       "    </tr>\n",
       "    <tr>\n",
       "      <th>3</th>\n",
       "      <td>0.0</td>\n",
       "      <td>-14.2</td>\n",
       "    </tr>\n",
       "    <tr>\n",
       "      <th>4</th>\n",
       "      <td>-6.0</td>\n",
       "      <td>-11.6</td>\n",
       "    </tr>\n",
       "  </tbody>\n",
       "</table>\n",
       "</div>"
      ],
      "text/plain": [
       "   Actual  Predicted\n",
       "0    32.0       36.8\n",
       "1    12.0       -4.0\n",
       "2     0.0       -1.0\n",
       "3     0.0      -14.2\n",
       "4    -6.0      -11.6"
      ]
     },
     "execution_count": 29,
     "metadata": {
      "tags": []
     },
     "output_type": "execute_result"
    }
   ],
   "source": [
    "df_pred=pd.DataFrame({'Actual':y_test, 'Predicted':y_pred})\n",
    "df_pred.head()"
   ]
  },
  {
   "cell_type": "code",
   "execution_count": 30,
   "metadata": {
    "colab": {
     "base_uri": "https://localhost:8080/",
     "height": 69
    },
    "colab_type": "code",
    "executionInfo": {
     "elapsed": 1166,
     "status": "ok",
     "timestamp": 1583150645485,
     "user": {
      "displayName": "Gauri Gupta",
      "photoUrl": "https://lh3.googleusercontent.com/a-/AOh14GjZ1jKXyGWpnYo5kU18ZNfK1f7x0-Rxorw1w-EPZw=s64",
      "userId": "13281876057161016479"
     },
     "user_tz": -330
    },
    "id": "602VxEgMIaG0",
    "outputId": "d749852d-a758-4e1e-b8b8-51a9fb5faa43"
   },
   "outputs": [
    {
     "name": "stdout",
     "output_type": "stream",
     "text": [
      "Mean Absolute Error: 12.865257142857143\n",
      "Mean Squared Error: 408.9594971428571\n",
      "Root Mean Squared Error: 20.222747022668734\n"
     ]
    }
   ],
   "source": [
    "from sklearn import metrics\n",
    "print('Mean Absolute Error:', metrics.mean_absolute_error(y_test, y_pred))\n",
    "print('Mean Squared Error:', metrics.mean_squared_error(y_test, y_pred))\n",
    "print('Root Mean Squared Error:', np.sqrt(metrics.mean_squared_error(y_test, y_pred)))"
   ]
  },
  {
   "cell_type": "code",
   "execution_count": 31,
   "metadata": {
    "colab": {
     "base_uri": "https://localhost:8080/",
     "height": 87
    },
    "colab_type": "code",
    "executionInfo": {
     "elapsed": 999,
     "status": "ok",
     "timestamp": 1583150651433,
     "user": {
      "displayName": "Gauri Gupta",
      "photoUrl": "https://lh3.googleusercontent.com/a-/AOh14GjZ1jKXyGWpnYo5kU18ZNfK1f7x0-Rxorw1w-EPZw=s64",
      "userId": "13281876057161016479"
     },
     "user_tz": -330
    },
    "id": "6dqqKU2_Ibv7",
    "outputId": "11042334-3250-4f72-8fd6-8faf0c031431"
   },
   "outputs": [
    {
     "name": "stdout",
     "output_type": "stream",
     "text": [
      "----------------- TRAINING ------------------------\n",
      "r-squared score:  0.826197833495121\n",
      "------------------- TEST --------------------------\n",
      "r-squared score:  0.7558356301062399\n"
     ]
    }
   ],
   "source": [
    "\n",
    "#predicting accuarcy\n",
    "from sklearn.model_selection import cross_val_score\n",
    "\n",
    "print(\"----------------- TRAINING ------------------------\")\n",
    "print(\"r-squared score: \",regr_2.score(X_train, y_train))\n",
    "print(\"------------------- TEST --------------------------\")\n",
    "print(\"r-squared score: \", regr_2.score(X_test, y_test))\n",
    "#score = cross_val_score(regressor, X_test, y_test)\n",
    "# score = regr_1.score(X_test, y_test)\n",
    "# print(\"Score\")\n",
    "# print(score)"
   ]
  },
  {
   "cell_type": "code",
   "execution_count": 32,
   "metadata": {
    "colab": {
     "base_uri": "https://localhost:8080/",
     "height": 313
    },
    "colab_type": "code",
    "executionInfo": {
     "elapsed": 3997,
     "status": "ok",
     "timestamp": 1583150674727,
     "user": {
      "displayName": "Gauri Gupta",
      "photoUrl": "https://lh3.googleusercontent.com/a-/AOh14GjZ1jKXyGWpnYo5kU18ZNfK1f7x0-Rxorw1w-EPZw=s64",
      "userId": "13281876057161016479"
     },
     "user_tz": -330
    },
    "id": "8cQkmZ4qIdPT",
    "outputId": "d28a01fe-641e-4718-ddd3-410fa3b7f334"
   },
   "outputs": [
    {
     "name": "stdout",
     "output_type": "stream",
     "text": [
      "[ 1.  2.  3.  4.  5.  6.  7.  8.  9. 10.]\n"
     ]
    },
    {
     "data": {
      "image/png": "[encoded data removed]",
      "text/plain": [
       "<Figure size 432x288 with 1 Axes>"
      ]
     },
     "metadata": {
      "tags": []
     },
     "output_type": "display_data"
    }
   ],
   "source": [
    "#graph of knn by varying k value\n",
    "k_values = np.linspace(1, 10, 10, endpoint=True)\n",
    "print(k_values)\n",
    "train_results = []\n",
    "test_results = []\n",
    "for i in k_values:\n",
    "  knnr = KNeighborsRegressor(n_neighbors=int(i))\n",
    "  knnr.fit(X_train, y_train)\n",
    "\n",
    "  score = knnr.score(X_train, y_train)\n",
    "  train_results.append(score)\n",
    "\n",
    "  score = knnr.score(X_test, y_test)\n",
    "  test_results.append(score)\n",
    "\n",
    "from matplotlib.legend_handler import HandlerLine2D\n",
    "line1 = plt.plot(k_values, train_results, 'b', label='Train Score')\n",
    "line2 = plt.plot(k_values, test_results, 'r', label='Test Score')\n",
    "plt.legend()\n",
    "plt.ylabel('Score')\n",
    "plt.xlabel('Value of K')\n",
    "plt.title('K neighbours regressor')\n",
    "plt.show()"
   ]
  },
  {
   "cell_type": "code",
   "execution_count": 55,
   "metadata": {
    "colab": {
     "base_uri": "https://localhost:8080/",
     "height": 295
    },
    "colab_type": "code",
    "executionInfo": {
     "elapsed": 4305,
     "status": "ok",
     "timestamp": 1583151379315,
     "user": {
      "displayName": "Gauri Gupta",
      "photoUrl": "https://lh3.googleusercontent.com/a-/AOh14GjZ1jKXyGWpnYo5kU18ZNfK1f7x0-Rxorw1w-EPZw=s64",
      "userId": "13281876057161016479"
     },
     "user_tz": -330
    },
    "id": "FFoFQQ0wIiMa",
    "outputId": "be27c7e3-5c23-4bee-d857-900b591fdfa6"
   },
   "outputs": [
    {
     "data": {
      "image/png": "[encoded data removed]",
      "text/plain": [
       "<Figure size 432x288 with 1 Axes>"
      ]
     },
     "metadata": {
      "tags": []
     },
     "output_type": "display_data"
    }
   ],
   "source": [
    "#graph of knn by varyingleaf sizes\n",
    "leaf_sizes = np.linspace(10, 200, 10, endpoint=True)\n",
    "# print(k_values)\n",
    "train_results = []\n",
    "test_results = []\n",
    "for i in leaf_sizes:\n",
    "  knnr = KNeighborsRegressor(leaf_size = int(i))\n",
    "  knnr.fit(X_train, y_train)\n",
    "\n",
    "  score = knnr.score(X_train, y_train)\n",
    "  train_results.append(score)\n",
    "\n",
    "  score = knnr.score(X_test, y_test)\n",
    "  test_results.append(score)\n",
    "\n",
    "from matplotlib.legend_handler import HandlerLine2D\n",
    "line1 = plt.plot(leaf_sizes, train_results, 'b', label='Train Score')\n",
    "line2 = plt.plot(leaf_sizes, test_results, 'r', label='Test Score')\n",
    "plt.legend()\n",
    "plt.ylabel('Score')\n",
    "plt.xlabel('Leaf size')\n",
    "plt.title('K neighbours regressor')\n",
    "plt.show()"
   ]
  },
  {
   "cell_type": "code",
   "execution_count": 34,
   "metadata": {
    "colab": {
     "base_uri": "https://localhost:8080/",
     "height": 295
    },
    "colab_type": "code",
    "executionInfo": {
     "elapsed": 1751,
     "status": "ok",
     "timestamp": 1583150711078,
     "user": {
      "displayName": "Gauri Gupta",
      "photoUrl": "https://lh3.googleusercontent.com/a-/AOh14GjZ1jKXyGWpnYo5kU18ZNfK1f7x0-Rxorw1w-EPZw=s64",
      "userId": "13281876057161016479"
     },
     "user_tz": -330
    },
    "id": "L1Fwa4IuImCA",
    "outputId": "6ec57db0-6fb4-471f-cae4-5bba8dfca9be"
   },
   "outputs": [
    {
     "data": {
      "image/png": "[encoded data removed]",
      "text/plain": [
       "<Figure size 432x288 with 1 Axes>"
      ]
     },
     "metadata": {
      "tags": []
     },
     "output_type": "display_data"
    }
   ],
   "source": [
    "#graph of knn by varying the type of weights\n",
    "weights = ['uniform', 'distance']\n",
    "# print(k_values)\n",
    "train_results = []\n",
    "test_results = []\n",
    "for i in weights:\n",
    "  knnr = KNeighborsRegressor(weights = i)\n",
    "  knnr.fit(X_train, y_train)\n",
    "\n",
    "  score = knnr.score(X_train, y_train)\n",
    "  train_results.append(score)\n",
    "\n",
    "  score = knnr.score(X_test, y_test)\n",
    "  test_results.append(score)\n",
    "\n",
    "from matplotlib.legend_handler import HandlerLine2D\n",
    "line1 = plt.plot(weights, train_results, 'b', label='Train Score')\n",
    "line2 = plt.plot(weights, test_results, 'r', label='Test Score')\n",
    "plt.legend()\n",
    "plt.ylabel('Score')\n",
    "plt.xlabel('Weights')\n",
    "plt.title('K neighbours regressor')\n",
    "plt.show()"
   ]
  },
  {
   "cell_type": "code",
   "execution_count": 56,
   "metadata": {
    "colab": {
     "base_uri": "https://localhost:8080/",
     "height": 295
    },
    "colab_type": "code",
    "executionInfo": {
     "elapsed": 13950,
     "status": "ok",
     "timestamp": 1583151487487,
     "user": {
      "displayName": "Gauri Gupta",
      "photoUrl": "https://lh3.googleusercontent.com/a-/AOh14GjZ1jKXyGWpnYo5kU18ZNfK1f7x0-Rxorw1w-EPZw=s64",
      "userId": "13281876057161016479"
     },
     "user_tz": -330
    },
    "id": "cfGYnVRTIrnO",
    "outputId": "46f61f68-dd3a-4b0c-970e-23521dacc8da"
   },
   "outputs": [
    {
     "data": {
      "image/png": "[encoded data removed]",
      "text/plain": [
       "<Figure size 432x288 with 1 Axes>"
      ]
     },
     "metadata": {
      "tags": []
     },
     "output_type": "display_data"
    }
   ],
   "source": [
    "#graph of knn by varying p value\n",
    "ps = [1, 2, 3, 4, 5 ,6]\n",
    "# print(k_values)\n",
    "train_results = []\n",
    "test_results = []\n",
    "for i in ps:\n",
    "  knnr = KNeighborsRegressor(p = i)\n",
    "  knnr.fit(X_train, y_train)\n",
    "\n",
    "  score = knnr.score(X_train, y_train)\n",
    "  train_results.append(score)\n",
    "\n",
    "  score = knnr.score(X_test, y_test)\n",
    "  test_results.append(score)\n",
    "\n",
    "from matplotlib.legend_handler import HandlerLine2D\n",
    "line1 = plt.plot(ps, train_results, 'b', label='Train Score')\n",
    "line2 = plt.plot(ps, test_results, 'r', label='Test Score')\n",
    "plt.legend()\n",
    "plt.ylabel('Score')\n",
    "plt.xlabel('p-value')\n",
    "plt.title('K neighbours regressor')\n",
    "plt.show()"
   ]
  },
  {
   "cell_type": "code",
   "execution_count": 37,
   "metadata": {
    "colab": {
     "base_uri": "https://localhost:8080/",
     "height": 35
    },
    "colab_type": "code",
    "executionInfo": {
     "elapsed": 979,
     "status": "ok",
     "timestamp": 1583150758435,
     "user": {
      "displayName": "Gauri Gupta",
      "photoUrl": "https://lh3.googleusercontent.com/a-/AOh14GjZ1jKXyGWpnYo5kU18ZNfK1f7x0-Rxorw1w-EPZw=s64",
      "userId": "13281876057161016479"
     },
     "user_tz": -330
    },
    "id": "PTGMZUPbIv_l",
    "outputId": "dea1c9d3-8ab2-4740-9bf4-d4441c77581a"
   },
   "outputs": [
    {
     "name": "stdout",
     "output_type": "stream",
     "text": [
      "r-squared score:  0.7837423275756912\n"
     ]
    }
   ],
   "source": [
    "# As per the above graph, we use k=3 parameter for K Neighbours Regressor.\n",
    "# Scores for test data for k = 3 :\n",
    "regr_2 = KNeighborsRegressor(n_neighbors=3)\n",
    "regr_2.fit(X_train, y_train)\n",
    "print(\"r-squared score: \", regr_2.score(X_test, y_test))"
   ]
  },
  {
   "cell_type": "code",
   "execution_count": 38,
   "metadata": {
    "colab": {
     "base_uri": "https://localhost:8080/",
     "height": 89
    },
    "colab_type": "code",
    "executionInfo": {
     "elapsed": 46270,
     "status": "ok",
     "timestamp": 1583150834745,
     "user": {
      "displayName": "Gauri Gupta",
      "photoUrl": "https://lh3.googleusercontent.com/a-/AOh14GjZ1jKXyGWpnYo5kU18ZNfK1f7x0-Rxorw1w-EPZw=s64",
      "userId": "13281876057161016479"
     },
     "user_tz": -330
    },
    "id": "lqmvT7cvI3Xf",
    "outputId": "af034951-d0ff-431f-90f9-cea0086ab899"
   },
   "outputs": [
    {
     "name": "stderr",
     "output_type": "stream",
     "text": [
      "/usr/local/lib/python3.6/dist-packages/joblib/externals/loky/process_executor.py:706: UserWarning: A worker stopped while some jobs were given to the executor. This can be caused by a too short worker timeout or by a memory leak.\n",
      "  \"timeout or by a memory leak.\", UserWarning\n"
     ]
    },
    {
     "name": "stdout",
     "output_type": "stream",
     "text": [
      "{'algorithm': 'ball_tree', 'leaf_size': 50, 'n_neighbors': 2}\n"
     ]
    }
   ],
   "source": [
    "#finding best fit model\n",
    "from sklearn.model_selection import GridSearchCV\n",
    "gsc = GridSearchCV(estimator=KNeighborsRegressor(),\n",
    "                   param_grid={'n_neighbors': range(1,10), \n",
    "                               'algorithm' : ['auto', 'ball_tree', 'kd_tree', 'brute'],\n",
    "                               'leaf_size' : [10, 20, 30, 40, 50]\n",
    "                              },\n",
    "                   cv=5,\n",
    "                   scoring='r2',\n",
    "                   verbose=0,\n",
    "                   n_jobs=-1)\n",
    "gsc.fit(X_train, y_train)\n",
    "print(gsc.best_params_)"
   ]
  },
  {
   "cell_type": "code",
   "execution_count": 39,
   "metadata": {
    "colab": {
     "base_uri": "https://localhost:8080/",
     "height": 87
    },
    "colab_type": "code",
    "executionInfo": {
     "elapsed": 1527,
     "status": "ok",
     "timestamp": 1583150843830,
     "user": {
      "displayName": "Gauri Gupta",
      "photoUrl": "https://lh3.googleusercontent.com/a-/AOh14GjZ1jKXyGWpnYo5kU18ZNfK1f7x0-Rxorw1w-EPZw=s64",
      "userId": "13281876057161016479"
     },
     "user_tz": -330
    },
    "id": "J961CQb2I-8H",
    "outputId": "9b19d93f-afea-4280-be6c-ed8616040044"
   },
   "outputs": [
    {
     "name": "stdout",
     "output_type": "stream",
     "text": [
      "----------------- TRAINING ------------------------\n",
      "r-squared score:  0.9340521882399118\n",
      "------------------- TEST --------------------------\n",
      "r-squared score:  0.7926658379350332\n"
     ]
    }
   ],
   "source": [
    "#predicting best model accuracy\n",
    "from sklearn.model_selection import cross_val_score\n",
    "\n",
    "knn = KNeighborsRegressor(n_neighbors = gsc.best_params_['n_neighbors'],  \n",
    "                          algorithm = gsc.best_params_['algorithm'],\n",
    "                          leaf_size = gsc.best_params_['leaf_size']\n",
    "                         )\n",
    "knn.fit(X_train, y_train)\n",
    "# print('Score :', knn.score(X_test, y_test))\n",
    "\n",
    "print(\"----------------- TRAINING ------------------------\")\n",
    "print(\"r-squared score: \",knn.score(X_train, y_train))\n",
    "print(\"------------------- TEST --------------------------\")\n",
    "print(\"r-squared score: \", knn.score(X_test, y_test))\n",
    "#score = cross_val_score(regressor, X_test, y_test)\n",
    "# score = regr_1.score(X_test, y_test)\n",
    "# print(\"Score\")"
   ]
  },
  {
   "cell_type": "markdown",
   "metadata": {
    "colab_type": "text",
    "id": "FSwyToh8JDR5"
   },
   "source": [
    "## **Artificial Neural Network Regressor**"
   ]
  },
  {
   "cell_type": "code",
   "execution_count": 40,
   "metadata": {
    "colab": {
     "base_uri": "https://localhost:8080/",
     "height": 35
    },
    "colab_type": "code",
    "executionInfo": {
     "elapsed": 1036,
     "status": "ok",
     "timestamp": 1583150846769,
     "user": {
      "displayName": "Gauri Gupta",
      "photoUrl": "https://lh3.googleusercontent.com/a-/AOh14GjZ1jKXyGWpnYo5kU18ZNfK1f7x0-Rxorw1w-EPZw=s64",
      "userId": "13281876057161016479"
     },
     "user_tz": -330
    },
    "id": "Xn-bzIwFJGCH",
    "outputId": "35c6477f-9662-4d77-925d-c01240a85677"
   },
   "outputs": [
    {
     "name": "stdout",
     "output_type": "stream",
     "text": [
      "r-squared score:  0.9550997506053751\n"
     ]
    }
   ],
   "source": [
    "from sklearn.neural_network import MLPRegressor\n",
    "ann = MLPRegressor(tol=1, \n",
    "                   early_stopping=True)\n",
    "ann.fit(X_train, y_train)\n",
    "print(\"r-squared score: \", ann.score(X_test, y_test))"
   ]
  },
  {
   "cell_type": "code",
   "execution_count": 41,
   "metadata": {
    "colab": {
     "base_uri": "https://localhost:8080/",
     "height": 365
    },
    "colab_type": "code",
    "executionInfo": {
     "elapsed": 3073,
     "status": "ok",
     "timestamp": 1583150866818,
     "user": {
      "displayName": "Gauri Gupta",
      "photoUrl": "https://lh3.googleusercontent.com/a-/AOh14GjZ1jKXyGWpnYo5kU18ZNfK1f7x0-Rxorw1w-EPZw=s64",
      "userId": "13281876057161016479"
     },
     "user_tz": -330
    },
    "id": "mOYNeh1GJM61",
    "outputId": "8c62df88-e220-49be-d87b-10c4392b14ea"
   },
   "outputs": [
    {
     "name": "stdout",
     "output_type": "stream",
     "text": [
      "identity 0.9630294211136421\n",
      "logistic 0.15149968048091167\n",
      "tanh 0.20883116433916338\n",
      "relu 0.9177239795042815\n"
     ]
    },
    {
     "data": {
      "image/png": "[encoded data removed]",
      "text/plain": [
       "<Figure size 432x288 with 1 Axes>"
      ]
     },
     "metadata": {
      "tags": []
     },
     "output_type": "display_data"
    }
   ],
   "source": [
    "# graph for ann activations\n",
    "activations = ['identity', 'logistic', 'tanh', 'relu']\n",
    "# print(hidden_layer_sizes)\n",
    "train_results = []\n",
    "test_results = []\n",
    "for i in activations:\n",
    "  ann = MLPRegressor(activation = i,\n",
    "                    tol = 1,\n",
    "                    early_stopping=True, \n",
    "                    learning_rate='constant', \n",
    "                      \n",
    "                    solver='adam')\n",
    "  ann.fit(X_train, y_train)\n",
    "\n",
    "  score = ann.score(X_train, y_train)\n",
    "  train_results.append(score)\n",
    "\n",
    "  score = ann.score(X_test, y_test)\n",
    "  test_results.append(score)\n",
    "  print(i, score)\n",
    "from matplotlib.legend_handler import HandlerLine2D\n",
    "line1 = plt.plot(activations, train_results, 'b', label='Train Score')\n",
    "line2 = plt.plot(activations, test_results, 'r', label='Test Score')\n",
    "plt.legend()\n",
    "plt.ylabel('Score')\n",
    "plt.xlabel('Activation')\n",
    "# plt.title('Decision Tree regressor')\n",
    "plt.title('Artificial Neural Network')\n",
    "plt.show()"
   ]
  },
  {
   "cell_type": "code",
   "execution_count": 42,
   "metadata": {
    "colab": {
     "base_uri": "https://localhost:8080/",
     "height": 417
    },
    "colab_type": "code",
    "executionInfo": {
     "elapsed": 3695,
     "status": "ok",
     "timestamp": 1583150892285,
     "user": {
      "displayName": "Gauri Gupta",
      "photoUrl": "https://lh3.googleusercontent.com/a-/AOh14GjZ1jKXyGWpnYo5kU18ZNfK1f7x0-Rxorw1w-EPZw=s64",
      "userId": "13281876057161016479"
     },
     "user_tz": -330
    },
    "id": "wWKQfCFEJRUY",
    "outputId": "13237cbb-ca89-4334-a521-30eba4b16143"
   },
   "outputs": [
    {
     "name": "stdout",
     "output_type": "stream",
     "text": [
      "[10, 50, 100, 150, 200, 500]\n",
      "10 0.7415674517706248\n",
      "50 0.9457777540880535\n",
      "100 0.9461966449456874\n",
      "150 0.9364386620831643\n",
      "200 0.9345581441986568\n",
      "500 0.9568099564535101\n"
     ]
    },
    {
     "data": {
      "image/png": "[encoded data removed]",
      "text/plain": [
       "<Figure size 432x288 with 1 Axes>"
      ]
     },
     "metadata": {
      "tags": []
     },
     "output_type": "display_data"
    }
   ],
   "source": [
    "# graph for ann hidden_layer sizes\n",
    "hidden_layer_sizes = [10, 50, 100, 150, 200, 500]\n",
    "print(hidden_layer_sizes)\n",
    "train_results = []\n",
    "test_results = []\n",
    "for i in hidden_layer_sizes:\n",
    "  ann = MLPRegressor(hidden_layer_sizes = (int(i),),\n",
    "                    tol = 1,\n",
    "                    early_stopping=True, \n",
    "                    learning_rate='constant', \n",
    "                    activation='identity', \n",
    "                    solver='adam')\n",
    "  ann.fit(X_train, y_train)\n",
    "\n",
    "  score = ann.score(X_train, y_train)\n",
    "  train_results.append(score)\n",
    "\n",
    "  score = ann.score(X_test, y_test)\n",
    "  test_results.append(score)\n",
    "  print(i, score)\n",
    "from matplotlib.legend_handler import HandlerLine2D\n",
    "line1 = plt.plot(hidden_layer_sizes, train_results, 'b', label='Train Score')\n",
    "line2 = plt.plot(hidden_layer_sizes, test_results, 'r', label='Test Score')\n",
    "plt.legend()\n",
    "plt.ylabel('Score')\n",
    "plt.xlabel('Hidden Layer Sizes')\n",
    "# plt.title('Decision Tree regressor')\n",
    "plt.title('Artificial Neural Network')\n",
    "plt.show()"
   ]
  },
  {
   "cell_type": "code",
   "execution_count": 43,
   "metadata": {
    "colab": {
     "base_uri": "https://localhost:8080/",
     "height": 642
    },
    "colab_type": "code",
    "executionInfo": {
     "elapsed": 8436,
     "status": "ok",
     "timestamp": 1583150920493,
     "user": {
      "displayName": "Gauri Gupta",
      "photoUrl": "https://lh3.googleusercontent.com/a-/AOh14GjZ1jKXyGWpnYo5kU18ZNfK1f7x0-Rxorw1w-EPZw=s64",
      "userId": "13281876057161016479"
     },
     "user_tz": -330
    },
    "id": "CNC7oEgZJXYi",
    "outputId": "d3e16238-0bc8-41b1-8c9d-e4f3edbf83ae"
   },
   "outputs": [
    {
     "name": "stdout",
     "output_type": "stream",
     "text": [
      "10.0 0.9999668752838746\n",
      "62.10526315789474 0.9883680973287367\n",
      "114.21052631578948 0.9574653366152673\n",
      "166.31578947368422 0.945004797162052\n",
      "218.42105263157896 0.8655891433131351\n",
      "270.5263157894737 0.9215671802247132\n",
      "322.63157894736844 0.954571616717535\n",
      "374.7368421052632 0.9350081072454823\n",
      "426.8421052631579 0.9414412555575349\n",
      "478.94736842105266 0.5840558849891385\n",
      "531.0526315789474 0.8744238583504496\n",
      "583.1578947368421 0.9066514757625675\n",
      "635.2631578947369 0.8746472164827446\n",
      "687.3684210526317 0.8761512976625108\n",
      "739.4736842105264 0.8876984238405632\n",
      "791.578947368421 0.7838535049168556\n",
      "843.6842105263158 0.840152113950215\n",
      "895.7894736842106 0.937287619765709\n",
      "947.8947368421053 0.9229470099129283\n",
      "1000.0 0.9356051140516366\n"
     ]
    },
    {
     "data": {
      "image/png": "[encoded data removed]",
      "text/plain": [
       "<Figure size 432x288 with 1 Axes>"
      ]
     },
     "metadata": {
      "tags": []
     },
     "output_type": "display_data"
    }
   ],
   "source": [
    "# graph for ann batch sizes\n",
    "batch_sizes = np.linspace(10, 1000, 20, endpoint=True)\n",
    "# print(hidden_layer_sizes)\n",
    "train_results = []\n",
    "test_results = []\n",
    "for i in batch_sizes:\n",
    "  ann = MLPRegressor(batch_size = int(i),\n",
    "                      tol = 1,\n",
    "                      early_stopping=True, \n",
    "                      learning_rate='constant', \n",
    "                      activation='identity', \n",
    "                      solver='adam')\n",
    "  ann.fit(X_train, y_train)\n",
    "\n",
    "  score = ann.score(X_train, y_train)\n",
    "  train_results.append(score)\n",
    "\n",
    "  score = ann.score(X_test, y_test)\n",
    "  test_results.append(score)\n",
    "  print(i, score)\n",
    "from matplotlib.legend_handler import HandlerLine2D\n",
    "line1 = plt.plot(batch_sizes, train_results, 'b', label='Train Score')\n",
    "line2 = plt.plot(batch_sizes, test_results, 'r', label='Test Score')\n",
    "plt.legend()\n",
    "plt.ylabel('Score')\n",
    "plt.xlabel('Batch size')\n",
    "# plt.title('Decision Tree regressor')\n",
    "plt.title('Artificial Neural Network')\n",
    "plt.show()"
   ]
  },
  {
   "cell_type": "code",
   "execution_count": 54,
   "metadata": {
    "colab": {
     "base_uri": "https://localhost:8080/",
     "height": 347
    },
    "colab_type": "code",
    "executionInfo": {
     "elapsed": 2181,
     "status": "ok",
     "timestamp": 1583151180438,
     "user": {
      "displayName": "Gauri Gupta",
      "photoUrl": "https://lh3.googleusercontent.com/a-/AOh14GjZ1jKXyGWpnYo5kU18ZNfK1f7x0-Rxorw1w-EPZw=s64",
      "userId": "13281876057161016479"
     },
     "user_tz": -330
    },
    "id": "mICMTiBBJdHA",
    "outputId": "4442b3f4-fa08-4fa4-d236-366d419f24ab"
   },
   "outputs": [
    {
     "name": "stdout",
     "output_type": "stream",
     "text": [
      "constant 0.9602833291662085\n",
      "invscaling 0.9449907287536193\n",
      "adaptive 0.9444980119790273\n"
     ]
    },
    {
     "data": {
      "image/png": "[encoded data removed]",
      "text/plain": [
       "<Figure size 432x288 with 1 Axes>"
      ]
     },
     "metadata": {
      "tags": []
     },
     "output_type": "display_data"
    }
   ],
   "source": [
    "# graph for ann learning rates\n",
    "learning_rates = ['constant', 'invscaling', 'adaptive']\n",
    "# print(hidden_layer_sizes)\n",
    "train_results = []\n",
    "test_results = []\n",
    "for i in learning_rates:\n",
    "  ann = MLPRegressor(learning_rate = i,\n",
    "                      tol = 1,\n",
    "                      early_stopping=True,\n",
    "                      activation='identity', \n",
    "                      solver='adam')\n",
    "  ann.fit(X_train, y_train)\n",
    "\n",
    "  score = ann.score(X_train, y_train)\n",
    "  train_results.append(score)\n",
    "\n",
    "  score = ann.score(X_test, y_test)\n",
    "  test_results.append(score)\n",
    "  print(i, score)\n",
    "from matplotlib.legend_handler import HandlerLine2D\n",
    "line1 = plt.plot(learning_rates, train_results, 'b', label='Train Score')\n",
    "line2 = plt.plot(learning_rates, test_results, 'r', label='Test Score')\n",
    "plt.legend()\n",
    "plt.ylabel('Score')\n",
    "plt.xlabel('Learning Rate')\n",
    "# plt.title('Decision Tree regressor')\n",
    "plt.title('Artificial Neural Network')\n",
    "plt.show()"
   ]
  },
  {
   "cell_type": "code",
   "execution_count": 45,
   "metadata": {
    "colab": {
     "base_uri": "https://localhost:8080/",
     "height": 193
    },
    "colab_type": "code",
    "executionInfo": {
     "elapsed": 16569,
     "status": "ok",
     "timestamp": 1583150985981,
     "user": {
      "displayName": "Gauri Gupta",
      "photoUrl": "https://lh3.googleusercontent.com/a-/AOh14GjZ1jKXyGWpnYo5kU18ZNfK1f7x0-Rxorw1w-EPZw=s64",
      "userId": "13281876057161016479"
     },
     "user_tz": -330
    },
    "id": "9tHlWZ_YJlob",
    "outputId": "ece83073-ea28-4b81-dcef-97fd986de950"
   },
   "outputs": [
    {
     "name": "stdout",
     "output_type": "stream",
     "text": [
      "{'learning_rate': 'constant'}\n",
      "{'activation': 'relu'}\n",
      "{'solver': 'lbfgs'}\n"
     ]
    },
    {
     "name": "stderr",
     "output_type": "stream",
     "text": [
      "/usr/local/lib/python3.6/dist-packages/sklearn/neural_network/_multilayer_perceptron.py:470: ConvergenceWarning: lbfgs failed to converge (status=1):\n",
      "STOP: TOTAL NO. of ITERATIONS REACHED LIMIT.\n",
      "\n",
      "Increase the number of iterations (max_iter) or scale the data as shown in:\n",
      "    https://scikit-learn.org/stable/modules/preprocessing.html\n",
      "  self.n_iter_ = _check_optimize_result(\"lbfgs\", opt_res, self.max_iter)\n"
     ]
    }
   ],
   "source": [
    "#finding best fit model\n",
    "hyper_params = {'learning_rate' : ['constant', 'invscaling', 'adaptive'],\n",
    "'activation' : ['identity', 'logistic', 'tanh', 'relu'], \n",
    " 'solver' : ['lbfgs', 'sgd', 'adam'], }\n",
    "for key, val in hyper_params.items():\n",
    "    gsc_ann = GridSearchCV(estimator=MLPRegressor(tol = 1, \n",
    "                                                 early_stopping= True),  \n",
    "                           param_grid = { key : val },\n",
    "                           cv = 3,\n",
    "                           scoring='r2',\n",
    "                           verbose = 0,\n",
    "                           n_jobs=-1)\n",
    "    gsc_ann.fit(X_train, y_train)\n",
    "    print(gsc_ann.best_params_)"
   ]
  },
  {
   "cell_type": "code",
   "execution_count": 46,
   "metadata": {
    "colab": {
     "base_uri": "https://localhost:8080/",
     "height": 211
    },
    "colab_type": "code",
    "executionInfo": {
     "elapsed": 4768,
     "status": "ok",
     "timestamp": 1583151015652,
     "user": {
      "displayName": "Gauri Gupta",
      "photoUrl": "https://lh3.googleusercontent.com/a-/AOh14GjZ1jKXyGWpnYo5kU18ZNfK1f7x0-Rxorw1w-EPZw=s64",
      "userId": "13281876057161016479"
     },
     "user_tz": -330
    },
    "id": "DTtH3KhZJrHE",
    "outputId": "60fa0258-9f19-4ad2-c129-8420cd918a87"
   },
   "outputs": [
    {
     "name": "stdout",
     "output_type": "stream",
     "text": [
      "----------------- TRAINING ------------------------\n",
      "r-squared score:  0.9990732854170168\n",
      "------------------- TEST --------------------------\n",
      "r-squared score:  0.999104854002725\n"
     ]
    },
    {
     "name": "stderr",
     "output_type": "stream",
     "text": [
      "/usr/local/lib/python3.6/dist-packages/sklearn/neural_network/_multilayer_perceptron.py:470: ConvergenceWarning: lbfgs failed to converge (status=1):\n",
      "STOP: TOTAL NO. of ITERATIONS REACHED LIMIT.\n",
      "\n",
      "Increase the number of iterations (max_iter) or scale the data as shown in:\n",
      "    https://scikit-learn.org/stable/modules/preprocessing.html\n",
      "  self.n_iter_ = _check_optimize_result(\"lbfgs\", opt_res, self.max_iter)\n"
     ]
    }
   ],
   "source": [
    "#predicting best model accuracy\n",
    "from sklearn.model_selection import cross_val_score\n",
    "\n",
    "ann = MLPRegressor(tol=1, \n",
    "                   early_stopping = True,\n",
    "                   activation = 'relu',\n",
    "                   solver = 'lbfgs')\n",
    "ann.fit(X_train, y_train)\n",
    "# print('Score :', knn.score(X_test, y_test))\n",
    "\n",
    "print(\"----------------- TRAINING ------------------------\")\n",
    "print(\"r-squared score: \",ann.score(X_train, y_train))\n",
    "print(\"------------------- TEST --------------------------\")\n",
    "print(\"r-squared score: \", ann.score(X_test, y_test))\n",
    "#score = cross_val_score(regressor, X_test, y_test)\n",
    "# score = regr_1.score(X_test, y_test)\n",
    "# print(\"Score\")"
   ]
  },
  {
   "cell_type": "code",
   "execution_count": 0,
   "metadata": {
    "colab": {},
    "colab_type": "code",
    "id": "4nAi108ZJ1PL"
   },
   "outputs": [],
   "source": []
  },
  {
   "cell_type": "markdown",
   "metadata": {
    "colab_type": "text",
    "id": "uKm3MDZ7KDWG"
   },
   "source": [
    "## **Naive Bayes Classifier**"
   ]
  },
  {
   "cell_type": "code",
   "execution_count": 48,
   "metadata": {
    "colab": {
     "base_uri": "https://localhost:8080/",
     "height": 52
    },
    "colab_type": "code",
    "executionInfo": {
     "elapsed": 1380,
     "status": "ok",
     "timestamp": 1583151087296,
     "user": {
      "displayName": "Gauri Gupta",
      "photoUrl": "https://lh3.googleusercontent.com/a-/AOh14GjZ1jKXyGWpnYo5kU18ZNfK1f7x0-Rxorw1w-EPZw=s64",
      "userId": "13281876057161016479"
     },
     "user_tz": -330
    },
    "id": "6OBhRyZSKFnO",
    "outputId": "ffaa65bb-caab-45ca-f1d4-c2ee08c7cdfa"
   },
   "outputs": [
    {
     "name": "stdout",
     "output_type": "stream",
     "text": [
      "1971 -82\n",
      "[0, 1, 2, 3, 4, 5, 6, 7, 8, 9, 10, 11, 12, 13, 14, 15, 16, 17, 18, 19]\n"
     ]
    }
   ],
   "source": [
    "df_flights_jan = df_flights.loc[(df_flights.loc[:,'YEAR'] == 2015 ) & (df_flights.loc[:,'MONTH'] == 1 )]\n",
    "dfc = df_flights_jan.dropna(axis=0, how='any', thresh=None, subset=None, inplace=False)\n",
    "ma = int(max(dfc['ARRIVAL_DELAY'])) \n",
    "mi = int(min(dfc['ARRIVAL_DELAY']))\n",
    "print(ma, mi)\n",
    "# bins = list(range(mi, ma+60, 20))\n",
    "# print(bins)\n",
    "# sz = len(bins)\n",
    "sz = 21\n",
    "# print(sz)\n",
    "labels = list(range(sz-1))\n",
    "print(labels)\n",
    "dfc['ARRIVAL_DELAY'] = pd.cut(dfc['ARRIVAL_DELAY'], bins=20, labels=labels)"
   ]
  },
  {
   "cell_type": "code",
   "execution_count": 49,
   "metadata": {
    "colab": {
     "base_uri": "https://localhost:8080/",
     "height": 141
    },
    "colab_type": "code",
    "executionInfo": {
     "elapsed": 1136,
     "status": "ok",
     "timestamp": 1583151095354,
     "user": {
      "displayName": "Gauri Gupta",
      "photoUrl": "https://lh3.googleusercontent.com/a-/AOh14GjZ1jKXyGWpnYo5kU18ZNfK1f7x0-Rxorw1w-EPZw=s64",
      "userId": "13281876057161016479"
     },
     "user_tz": -330
    },
    "id": "DwjKkU7cKHje",
    "outputId": "c2ffc808-9b36-4c62-df99-ad1a4a23e664"
   },
   "outputs": [
    {
     "name": "stderr",
     "output_type": "stream",
     "text": [
      "/usr/local/lib/python3.6/dist-packages/pandas/core/indexing.py:494: SettingWithCopyWarning: \n",
      "A value is trying to be set on a copy of a slice from a DataFrame.\n",
      "Try using .loc[row_indexer,col_indexer] = value instead\n",
      "\n",
      "See the caveats in the documentation: http://pandas.pydata.org/pandas-docs/stable/user_guide/indexing.html#returning-a-view-versus-a-copy\n",
      "  self.obj[item] = s\n"
     ]
    }
   ],
   "source": [
    "Xc = dfc[feature_list]\n",
    "labelenc = LabelEncoder()\n",
    "Xc.iloc[:,feature_list.index('AIRLINE')] = labelenc.fit_transform(Xc.iloc[:,feature_list.index('ORIGIN_AIRPORT')])\n",
    "labelenc = LabelEncoder()\n",
    "Xc.iloc[:,feature_list.index('ORIGIN_AIRPORT')] = labelenc.fit_transform(Xc.iloc[:,feature_list.index('ORIGIN_AIRPORT')])\n",
    "labelenc = LabelEncoder()\n",
    "Xc.iloc[:,feature_list.index('DESTINATION_AIRPORT')] = labelenc.fit_transform(Xc.iloc[:,feature_list.index('DESTINATION_AIRPORT')])"
   ]
  },
  {
   "cell_type": "code",
   "execution_count": 0,
   "metadata": {
    "colab": {},
    "colab_type": "code",
    "id": "WD8DscPsKJlL"
   },
   "outputs": [],
   "source": [
    "Xc = np.array(Xc)\n",
    "yc = dfc.ARRIVAL_DELAY\n",
    "yc = np.array(yc)\n",
    "Xc_train, Xc_test, yc_train, yc_test = train_test_split(Xc, yc, test_size = 0.35, random_state = 42)"
   ]
  },
  {
   "cell_type": "code",
   "execution_count": 52,
   "metadata": {
    "colab": {
     "base_uri": "https://localhost:8080/",
     "height": 87
    },
    "colab_type": "code",
    "executionInfo": {
     "elapsed": 2336,
     "status": "ok",
     "timestamp": 1583151127409,
     "user": {
      "displayName": "Gauri Gupta",
      "photoUrl": "https://lh3.googleusercontent.com/a-/AOh14GjZ1jKXyGWpnYo5kU18ZNfK1f7x0-Rxorw1w-EPZw=s64",
      "userId": "13281876057161016479"
     },
     "user_tz": -330
    },
    "id": "JMVXAkYlKLX6",
    "outputId": "c4692a3c-a036-464e-ff70-271b241779a1"
   },
   "outputs": [
    {
     "name": "stdout",
     "output_type": "stream",
     "text": [
      "----------------- TRAINING ------------------------\n",
      "r-squared score:  0.9499424354839796\n",
      "------------------- TEST --------------------------\n",
      "r-squared score:  0.9499609265105811\n"
     ]
    }
   ],
   "source": [
    "#predicting model accuracy\n",
    "from sklearn.naive_bayes import GaussianNB\n",
    "gnb = GaussianNB()\n",
    "gnb.fit(Xc_train, yc_train)\n",
    "\n",
    "print(\"----------------- TRAINING ------------------------\")\n",
    "print(\"r-squared score: \",gnb.score(Xc_train, yc_train))\n",
    "print(\"------------------- TEST --------------------------\")\n",
    "print(\"r-squared score: \", gnb.score(Xc_test, yc_test))\n",
    "#score = cross_val_score(regressor, X_test, y_test)\n",
    "# score = regr_1.score(X_test, y_test)\n",
    "# print(\"Score\")\n",
    "# print(gnb.score(Xc_test, yc_test))"
   ]
  },
  {
   "cell_type": "markdown",
   "metadata": {
    "colab": {},
    "colab_type": "code",
    "id": "Qph3bcKbKOrC"
   },
   "source": [
    "# Comparision of models"
   ]
  },
  {
   "cell_type": "code",
   "execution_count": 3,
   "metadata": {},
   "outputs": [
    {
     "data": {
      "text/plain": [
       "<function matplotlib.pyplot.show(*args, **kw)>"
      ]
     },
     "execution_count": 3,
     "metadata": {},
     "output_type": "execute_result"
    },
    {
     "data": {
      "image/png": "[encoded data removed]",
      "text/plain": [
       "<Figure size 640x480 with 1 Axes>"
      ]
     },
     "metadata": {},
     "output_type": "display_data"
    }
   ],
   "source": [
    "import numpy as np\n",
    "import matplotlib.pyplot as plt; plt.rcdefaults()\n",
    "import numpy as np\n",
    "import matplotlib.pyplot as plt\n",
    "\n",
    "# data to plot\n",
    "n_groups = 6\n",
    "train = (0.961, 0.988, 0.985, 0.934, 0.9991, 0.95)\n",
    "test = (0.916, 0.960, 0.941, 0.792, 0.990, 0.94)\n",
    "\n",
    "# create plot\n",
    "fig, ax = plt.subplots()\n",
    "index = np.arange(n_groups)\n",
    "bar_width = 0.35\n",
    "opacity = 0.8\n",
    "\n",
    "rects1 = plt.bar(index, train, bar_width,\n",
    "                 alpha=opacity, \n",
    "                 color='b',\n",
    "                 label='Train Accuracy')\n",
    "\n",
    "rects2 = plt.bar(index + bar_width, test, bar_width,\n",
    "                 alpha=opacity,\n",
    "                 color='r',\n",
    "                 label='Test Accuracy')\n",
    "\n",
    "plt.xlabel('Model')\n",
    "plt.ylabel('Accuracy')\n",
    "plt.title('Comparision of models')\n",
    "plt.xticks(index + bar_width, ('DT', 'RF', 'BG', 'KNN', 'ANN','NB'))\n",
    "plt.legend()\n",
    "\n",
    "plt.tight_layout()\n",
    "plt.savefig('nn.png')\n",
    "plt.show\n",
    "\n"
   ]
  },
  {
   "cell_type": "code",
   "execution_count": null,
   "metadata": {},
   "outputs": [],
   "source": []
  }
 ],
 "metadata": {
  "accelerator": "GPU",
  "colab": {
   "name": "Assignment1_Data_Mining.ipynb",
   "provenance": []
  },
  "kernelspec": {
   "display_name": "Python 3",
   "language": "python",
   "name": "python3"
  },
  "language_info": {
   "codemirror_mode": {
    "name": "ipython",
    "version": 3
   },
   "file_extension": ".py",
   "mimetype": "text/x-python",
   "name": "python",
   "nbconvert_exporter": "python",
   "pygments_lexer": "ipython3",
   "version": "3.7.4"
  }
 },
 "nbformat": 4,
 "nbformat_minor": 1
}
